{
 "metadata": {
  "language_info": {
   "codemirror_mode": {
    "name": "ipython",
    "version": 3
   },
   "file_extension": ".py",
   "mimetype": "text/x-python",
   "name": "python",
   "nbconvert_exporter": "python",
   "pygments_lexer": "ipython3",
   "version": 3
  },
  "orig_nbformat": 2,
  "kernelspec": {
   "name": "python_defaultSpec_1596863241535",
   "display_name": "Python 3.7.8 64-bit"
  }
 },
 "nbformat": 4,
 "nbformat_minor": 2,
 "cells": [
  {
   "cell_type": "code",
   "execution_count": 14,
   "metadata": {
    "tags": []
   },
   "outputs": [
    {
     "output_type": "stream",
     "name": "stdout",
     "text": "[0, 0, 0, 0, 0, 0, 0, 0, 0, 0]\n"
    }
   ],
   "source": [
    "#工件機器限制 K\n",
    "MachineLimit=[[1,0,1],[1,1,1],[1,0,1],[1,1,1],[1,1,0],\n",
    "              [1,0,1],[1,1,1],[1,0,1],[0,1,1],[1,1,1]]\n",
    "\n",
    "#工作時間\n",
    "ProcessTime=[[80,0,60],[75,86,94],[25,0,96],[78,95,89],[45,78,0],\n",
    "              [12,0,65],[55,99,87],[11,0,16],[0,16,45],[43,56,21]]\n",
    "\n",
    "#產生染色體\n",
    "import random\n",
    "ChromosomeList=[]\n",
    "JobResult=[]\n",
    "for i in range(20):\n",
    "    gene=random.random()\n",
    "    ChromosomeList.append(gene)\n",
    "\n",
    "for s in range(10):\n",
    "    #單份機率\n",
    "    sum = 0\n",
    "    for i in MachineLimit[s]:\n",
    "        sum += i\n",
    "    PJ1 =1/sum\n",
    "    #決定是第幾份(k)\n",
    "    k=1 #<預設為第一份>\n",
    "    TotalPJ1=PJ1\n",
    "    while(ChromosomeList[s]>TotalPJ1):\n",
    "        k+=1\n",
    "        TotalPJ1=PJ1*k\n",
    "\n",
    "    #print(k)\n",
    "\n",
    "    #工作派給機器(j)\n",
    "    FinalMachineJ1=0\n",
    "    sequence=[0,1,2] #機1.2.3\n",
    "    for j in sequence:\n",
    "        if(MachineLimit[j]==1):\n",
    "            k-=1\n",
    "        if(k==0):\n",
    "            FinalMachineJ1=j+1 #加回來\n",
    "            break\n",
    "    JobResult.append(FinalMachineJ1) \n",
    "print(JobResult)          \n"
   ]
  },
  {
   "cell_type": "code",
   "execution_count": 20,
   "metadata": {
    "tags": []
   },
   "outputs": [
    {
     "output_type": "stream",
     "name": "stdout",
     "text": "[[0. 0. 0. 0. 0. 0. 0. 0. 0. 0. 0. 0. 0. 0. 0. 0. 0. 0. 0. 0.]\n [0. 0. 0. 0. 0. 0. 0. 0. 0. 0. 0. 0. 0. 0. 0. 0. 0. 0. 0. 0.]\n [0. 0. 0. 0. 0. 0. 0. 0. 0. 0. 0. 0. 0. 0. 0. 0. 0. 0. 0. 0.]\n [0. 0. 0. 0. 0. 0. 0. 0. 0. 0. 0. 0. 0. 0. 0. 0. 0. 0. 0. 0.]\n [0. 0. 0. 0. 0. 0. 0. 0. 0. 0. 0. 0. 0. 0. 0. 0. 0. 0. 0. 0.]]\n[[0.10686461 0.62938708 0.58819246 0.41545868 0.14002254 0.507463\n  0.00916723 0.23173058 0.84217693 0.88885713 0.7078483  0.87893162\n  0.05963028 0.44824118 0.72479728 0.72086784 0.68568945 0.39788378\n  0.37146543 0.93389129]\n [0.         0.         0.         0.         0.         0.\n  0.         0.         0.         0.         0.         0.\n  0.         0.         0.         0.         0.         0.\n  0.         0.        ]\n [0.         0.         0.         0.         0.         0.\n  0.         0.         0.         0.         0.         0.\n  0.         0.         0.         0.         0.         0.\n  0.         0.        ]\n [0.         0.         0.         0.         0.         0.\n  0.         0.         0.         0.         0.         0.\n  0.         0.         0.         0.         0.         0.\n  0.         0.        ]\n [0.         0.         0.         0.         0.         0.\n  0.         0.         0.         0.         0.         0.\n  0.         0.         0.         0.         0.         0.\n  0.         0.        ]]\n0.7767867233442699\n"
    }
   ],
   "source": [
    "import numpy as np\n",
    "test = np.zeros((5, 20))\n",
    "print(test)\n",
    "for i in range(20):\n",
    "    test[0][i]=np.random.rand()\n",
    "print(test)\n",
    "\n",
    "b= np.random.rand()\n",
    "print(b)"
   ]
  },
  {
   "cell_type": "code",
   "execution_count": 9,
   "metadata": {
    "tags": []
   },
   "outputs": [
    {
     "output_type": "error",
     "ename": "TypeError",
     "evalue": "unsupported operand type(s) for +=: 'int' and 'list'",
     "traceback": [
      "\u001b[1;31m---------------------------------------------------------------------------\u001b[0m",
      "\u001b[1;31mTypeError\u001b[0m                                 Traceback (most recent call last)",
      "\u001b[1;32m<ipython-input-9-df9c6dc9d0b5>\u001b[0m in \u001b[0;36m<module>\u001b[1;34m\u001b[0m\n\u001b[0;32m     18\u001b[0m \u001b[0msum\u001b[0m \u001b[1;33m=\u001b[0m \u001b[1;36m0\u001b[0m\u001b[1;33m\u001b[0m\u001b[1;33m\u001b[0m\u001b[0m\n\u001b[0;32m     19\u001b[0m \u001b[1;32mfor\u001b[0m \u001b[0mi\u001b[0m \u001b[1;32min\u001b[0m \u001b[0mMachineLimit\u001b[0m\u001b[1;33m:\u001b[0m\u001b[1;33m\u001b[0m\u001b[1;33m\u001b[0m\u001b[0m\n\u001b[1;32m---> 20\u001b[1;33m     \u001b[0msum\u001b[0m \u001b[1;33m+=\u001b[0m \u001b[0mi\u001b[0m\u001b[1;33m\u001b[0m\u001b[1;33m\u001b[0m\u001b[0m\n\u001b[0m\u001b[0;32m     21\u001b[0m \u001b[0mprint\u001b[0m\u001b[1;33m(\u001b[0m\u001b[0msum\u001b[0m\u001b[1;33m)\u001b[0m\u001b[1;33m\u001b[0m\u001b[1;33m\u001b[0m\u001b[0m\n",
      "\u001b[1;31mTypeError\u001b[0m: unsupported operand type(s) for +=: 'int' and 'list'"
     ]
    }
   ],
   "source": [
    "#工件機器限制 K\n",
    "MachineLimit=[[1,0,1],[1,1,1],[1,0,1],[1,1,1],[1,1,0],\n",
    "              [1,0,1],[1,1,1],[1,0,1],[0,1,1],[1,1,1]]\n",
    "\n",
    "#工作時間\n",
    "ProcessTime=[[80,0,60],[75,86,94],[25,0,96],[78,95,89],[45,78,0],\n",
    "              [12,0,65],[55,99,87],[11,0,16],[0,16,45],[43,56,21]]\n",
    "\n",
    "#產生染色體\n",
    "import random\n",
    "ChromosomeList=[]\n",
    "for i in range(20):\n",
    "    gene=random.random()\n",
    "    ChromosomeList.append(gene)\n",
    "\n",
    "\n",
    "#單份機率\n",
    "sum = 0\n",
    "for i in MachineLimit[s]:\n",
    "    sum += i\n",
    "print(sum)\n"
   ]
  },
  {
   "cell_type": "code",
   "execution_count": null,
   "metadata": {},
   "outputs": [],
   "source": []
  }
 ]
}