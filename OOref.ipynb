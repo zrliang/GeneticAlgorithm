{
 "metadata": {
  "language_info": {
   "codemirror_mode": {
    "name": "ipython",
    "version": 3
   },
   "file_extension": ".py",
   "mimetype": "text/x-python",
   "name": "python",
   "nbconvert_exporter": "python",
   "pygments_lexer": "ipython3",
   "version": "3.8.3-final"
  },
  "orig_nbformat": 2,
  "kernelspec": {
   "name": "Python 3.8.3 64-bit",
   "display_name": "Python 3.8.3 64-bit",
   "metadata": {
    "interpreter": {
     "hash": "34daf7430057d877556c3ea61e0ffd3d419a1a15f02d558c0bc9c0c22aa563a0"
    }
   }
  }
 },
 "nbformat": 4,
 "nbformat_minor": 2,
 "cells": [
  {
   "cell_type": "code",
   "execution_count": 6,
   "metadata": {},
   "outputs": [],
   "source": [
    "import numpy as np \n",
    "import random\n",
    "randomlist=[]\n",
    "for i in range(1000):\n",
    "    randomlist.append(random.uniform(0, 1))\n",
    "a=random.sample(randomlist, 100)\n"
   ]
  },
  {
   "cell_type": "code",
   "execution_count": null,
   "metadata": {},
   "outputs": [],
   "source": [
    "import pandas as pd\n",
    "import json\n",
    "# from wip import WIP\n",
    "\n",
    "class Job():\n",
    "    def __init__(self, configure, processTime):\n",
    "        self.configure = configure #fix\n",
    "        self.processTime = processTime[processTime[\"RECIPE\"] == self.configure[\"RECIPE\"]] #fix\n",
    "        self.startTime = 0 #var\n",
    "        self.machineID = ''  #var\n",
    "        self.endTime = 0 #var\n",
    "         \n",
    "        for i in self.configure.index:\n",
    "            setattr(self, i, self.configure[i])\n",
    "\n",
    "    def set_machine_id(self, machineID):\n",
    "        self.machineID = machineID\n",
    "\n",
    "    def set_start_time(self, time):\n",
    "        self.startTime = time\n",
    "        processTime = int(self.processTime[ self.processTime[\"EQP_ID\"] == self.machineID ][\"PROCESS_TIME\"])\n",
    "        self.endTime = self.startTime + processTime\n",
    "    \n",
    "    def get_end_time(self):\n",
    "        return self.endTime\n",
    "    \n",
    "    def __str__(self): \n",
    "        return json.dumps(self.configure.to_dict(), indent=4)\n",
    "    \n",
    "    def __repr__(self): \n",
    "        return json.dumps(self.configure.to_dict(), indent=4)\n"
   ]
  },
  {
   "cell_type": "code",
   "execution_count": null,
   "metadata": {},
   "outputs": [],
   "source": [
    "class Machine(object):\n",
    "    def __init__(self, configure, setupTime):\n",
    "        self.configure = configure\n",
    "        self.setupTime = setupTime\n",
    "\n",
    "        self.jobs = []\n",
    "\n",
    "    def add_job(self, job):\n",
    "        self.jobs.append(job)\n",
    "\n",
    "    def sort_jobs(self):\n",
    "        currentTime = int(self.configure[\"RECOVER_TIME\"])\n",
    "        print(currentTime)\n",
    "\n",
    "        for i in range(len(self.jobs)):\n",
    "            self.jobs[i].set_start_time(currentTime)\n",
    "            currentTime = self.jobs[i].get_end_time()\n",
    "            \n",
    "machines = []\n",
    "for i in range(len(tool.values)):\n",
    "    machines.append(Machine(tool.iloc[i], setup_time.values))  #setuptime整張表"
   ]
  },
  {
   "cell_type": "code",
   "execution_count": null,
   "metadata": {},
   "outputs": [],
   "source": [
    "setup_time = pd.read_excel(\"./semiconductor_data.xlsx\", sheet_name=3, usecols=\"B:CW\") #欄位"
   ]
  },
  {
   "cell_type": "code",
   "execution_count": null,
   "metadata": {},
   "outputs": [],
   "source": [
    "jobs = []                               #K\n",
    "for i in range(len(wip.values)):\n",
    "    jobs.append(Job(wip.iloc[i], eqp)) "
   ]
  },
  {
   "cell_type": "code",
   "execution_count": null,
   "metadata": {},
   "outputs": [],
   "source": [
    "machines = []\n",
    "for i in range(len(tool.values)):\n",
    "    machines.append(Machine(tool.iloc[i], setup_time.values))  #setuptime整張表"
   ]
  },
  {
   "cell_type": "code",
   "execution_count": null,
   "metadata": {},
   "outputs": [],
   "source": [
    "jobs[2].set_machine_id(\"EQP002\") #工作派給機器"
   ]
  },
  {
   "cell_type": "code",
   "execution_count": null,
   "metadata": {},
   "outputs": [],
   "source": [
    "machines[1].add_job(jobs[2])"
   ]
  },
  {
   "cell_type": "code",
   "execution_count": null,
   "metadata": {},
   "outputs": [],
   "source": [
    "machines[1].sort_jobs()"
   ]
  },
  {
   "cell_type": "code",
   "execution_count": null,
   "metadata": {},
   "outputs": [],
   "source": [
    "machines[1].jobs[0].get_end_time()"
   ]
  },
  {
   "cell_type": "code",
   "execution_count": null,
   "metadata": {},
   "outputs": [],
   "source": [
    "RECIPE = pd.read_excel(\"./semiconductor_data.xlsx\")"
   ]
  },
  {
   "cell_type": "code",
   "execution_count": null,
   "metadata": {},
   "outputs": [],
   "source": [
    "for i in range(len(jobs)):                                                  #替代方法\n",
    "    jobs[i].set_process_time(RECIPE[RECIPE[\"RECIPE\"] == jobs[i].RECIPE])"
   ]
  },
  {
   "cell_type": "code",
   "execution_count": null,
   "metadata": {},
   "outputs": [],
   "source": []
  }
 ]
}