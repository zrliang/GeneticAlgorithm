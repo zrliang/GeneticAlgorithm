{
 "metadata": {
  "language_info": {
   "codemirror_mode": {
    "name": "ipython",
    "version": 3
   },
   "file_extension": ".py",
   "mimetype": "text/x-python",
   "name": "python",
   "nbconvert_exporter": "python",
   "pygments_lexer": "ipython3",
   "version": "3.8.3-final"
  },
  "orig_nbformat": 2,
  "kernelspec": {
   "name": "Python 3.8.3 64-bit",
   "display_name": "Python 3.8.3 64-bit",
   "metadata": {
    "interpreter": {
     "hash": "34daf7430057d877556c3ea61e0ffd3d419a1a15f02d558c0bc9c0c22aa563a0"
    }
   }
  }
 },
 "nbformat": 4,
 "nbformat_minor": 2,
 "cells": [
  {
   "cell_type": "code",
   "execution_count": 59,
   "metadata": {},
   "outputs": [
    {
     "output_type": "execute_result",
     "data": {
      "text/plain": [
       "    EQP_ID RECIPE PROCESS_TIME\n",
       "7   EQP001  Y8000          100\n",
       "17  EQP002  Y8000          120\n",
       "27  EQP003  Y8000          130\n",
       "37  EQP004  Y8000          110\n",
       "47  EQP005  Y8000          130\n",
       "57  EQP006  Y8000          150\n",
       "67  EQP007  Y8000          110\n",
       "77  EQP008  Y8000          150\n",
       "87  EQP009  Y8000          140\n",
       "97  EQP010  Y8000          110"
      ],
      "text/html": "<div>\n<style scoped>\n    .dataframe tbody tr th:only-of-type {\n        vertical-align: middle;\n    }\n\n    .dataframe tbody tr th {\n        vertical-align: top;\n    }\n\n    .dataframe thead th {\n        text-align: right;\n    }\n</style>\n<table border=\"1\" class=\"dataframe\">\n  <thead>\n    <tr style=\"text-align: right;\">\n      <th></th>\n      <th>EQP_ID</th>\n      <th>RECIPE</th>\n      <th>PROCESS_TIME</th>\n    </tr>\n  </thead>\n  <tbody>\n    <tr>\n      <th>7</th>\n      <td>EQP001</td>\n      <td>Y8000</td>\n      <td>100</td>\n    </tr>\n    <tr>\n      <th>17</th>\n      <td>EQP002</td>\n      <td>Y8000</td>\n      <td>120</td>\n    </tr>\n    <tr>\n      <th>27</th>\n      <td>EQP003</td>\n      <td>Y8000</td>\n      <td>130</td>\n    </tr>\n    <tr>\n      <th>37</th>\n      <td>EQP004</td>\n      <td>Y8000</td>\n      <td>110</td>\n    </tr>\n    <tr>\n      <th>47</th>\n      <td>EQP005</td>\n      <td>Y8000</td>\n      <td>130</td>\n    </tr>\n    <tr>\n      <th>57</th>\n      <td>EQP006</td>\n      <td>Y8000</td>\n      <td>150</td>\n    </tr>\n    <tr>\n      <th>67</th>\n      <td>EQP007</td>\n      <td>Y8000</td>\n      <td>110</td>\n    </tr>\n    <tr>\n      <th>77</th>\n      <td>EQP008</td>\n      <td>Y8000</td>\n      <td>150</td>\n    </tr>\n    <tr>\n      <th>87</th>\n      <td>EQP009</td>\n      <td>Y8000</td>\n      <td>140</td>\n    </tr>\n    <tr>\n      <th>97</th>\n      <td>EQP010</td>\n      <td>Y8000</td>\n      <td>110</td>\n    </tr>\n  </tbody>\n</table>\n</div>"
     },
     "metadata": {},
     "execution_count": 59
    }
   ],
   "source": [
    "import pandas as pd\n",
    "import json\n",
    "\n",
    "class Job():\n",
    "    def __init__(self, configure,processTime): #processTime=eqp\n",
    "        self.configure = configure\n",
    "        #print(configure)\n",
    "        #self.processTime = processTime\n",
    "        self.processTime = processTime[processTime[\"RECIPE\"] == self.configure[\"RECIPE\"]] \n",
    "\n",
    "        self.machineID = ''  #var\n",
    "        self.startTime = 0 #var\n",
    "        self.endTime = 0 #var\n",
    "        for i in self.configure.index:   #LOT_ID、OPE_NO... to object\n",
    "            setattr(self, i, self.configure[i])\n",
    "\n",
    "    def set_machine_id(self, machineID):\n",
    "        self.machineID = machineID\n",
    "\n",
    "    def set_start_time(self, time):\n",
    "        self.startTime = time\n",
    "        processTime = int(self.processTime[ self.processTime[\"EQP_ID\"] == self.machineID ][\"PROCESS_TIME\"]) #!\n",
    "        self.endTime = self.startTime + processTime\n",
    "\n",
    "    def get_end_time(self):\n",
    "        return self.endTime\n",
    "\n",
    "    def __str__(self): #須為字串str\n",
    "        return json.dumps(self.configure.to_dict(), indent=4) #將dict型別的資料轉成str\n",
    "    \n",
    "    def __repr__(self): \n",
    "        return json.dumps(self.configure.to_dict(), indent=4)\n",
    "\n",
    "wip = pd.read_excel(\"./semiconductor_data.xlsx\", sheet_name=2, dtype=str)\n",
    "eqp = pd.read_excel(\"./semiconductor_data.xlsx\", sheet_name=0, dtype=str)\n",
    "\n",
    "\n",
    "J1=Job(wip.iloc[0], eqp) #instance\n",
    "J1.processTime\n",
    "\n",
    "# jobs = []\n",
    "# for i in range(len(wip.values)): #100\n",
    "#     jobs.append(Job(wip.iloc[i], eqp))\n",
    "# jobs[0].processTime"
   ]
  },
  {
   "cell_type": "code",
   "execution_count": 68,
   "metadata": {},
   "outputs": [
    {
     "output_type": "stream",
     "name": "stdout",
     "text": [
      "    EQP_ID RECIPE PROCESS_TIME\n7   EQP001  Y8000          100\n17  EQP002  Y8000          120\n27  EQP003  Y8000          130\n37  EQP004  Y8000          110\n47  EQP005  Y8000          130\n57  EQP006  Y8000          150\n67  EQP007  Y8000          110\n77  EQP008  Y8000          150\n87  EQP009  Y8000          140\n97  EQP010  Y8000          110\n   EQP_ID RECIPE PROCESS_TIME\n7  EQP001  Y8000          100\n100\n"
     ]
    }
   ],
   "source": [
    "#Filter !!!!\n",
    "eqp = pd.read_excel(\"./semiconductor_data.xlsx\", sheet_name=0, dtype=str)\n",
    "A = eqp[eqp[\"RECIPE\"] == \"Y8000\"]\n",
    "\n",
    "B=A[ A[\"EQP_ID\"] == \"EQP001\" ]\n",
    "\n",
    "BB=int(A[ A[\"EQP_ID\"] == \"EQP001\" ][\"PROCESS_TIME\"])\n",
    "\n",
    "print(A)\n",
    "print(B)\n",
    "print(BB)\n"
   ]
  },
  {
   "cell_type": "code",
   "execution_count": null,
   "metadata": {},
   "outputs": [],
   "source": []
  }
 ]
}