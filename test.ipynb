{
 "metadata": {
  "language_info": {
   "codemirror_mode": {
    "name": "ipython",
    "version": 3
   },
   "file_extension": ".py",
   "mimetype": "text/x-python",
   "name": "python",
   "nbconvert_exporter": "python",
   "pygments_lexer": "ipython3",
   "version": "3.7.8-final"
  },
  "orig_nbformat": 2,
  "kernelspec": {
   "name": "python_defaultSpec_1598430158689",
   "display_name": "Python 3.7.8 64-bit"
  }
 },
 "nbformat": 4,
 "nbformat_minor": 2,
 "cells": [
  {
   "cell_type": "code",
   "execution_count": 251,
   "metadata": {
    "tags": []
   },
   "outputs": [
    {
     "output_type": "stream",
     "name": "stdout",
     "text": "7\n[5, 6]\n[1, 2, 3, 4, 11, 12] [7, 8, 9, 10, 5, 6]\n"
    }
   ],
   "source": [
    "#雙點交配\n",
    "\n",
    "p1=[1,2,3,4,5,6]\n",
    "print(len(p1)+1)\n",
    "p2=[7,8,9,10,11,12]\n",
    "CutPoint=[]\n",
    "import random\n",
    "size=range(1,7)  #染色體大小 #10+10(range(1,21))\n",
    "\n",
    "CutPoint=random.sample(size, 2)\n",
    "CutPoint.sort() \n",
    "print(CutPoint)\n",
    "\n",
    "strpoint=CutPoint[0]\n",
    "endpoint=CutPoint[1]\n",
    "\n",
    "c1=p1[:]\n",
    "c2=p2[:]\n",
    "c1[strpoint-1:endpoint]=p2[strpoint-1:endpoint]\n",
    "c2[strpoint-1:endpoint]=p1[strpoint-1:endpoint]\n",
    "print(c1,c2)\n"
   ]
  },
  {
   "cell_type": "code",
   "execution_count": 4,
   "metadata": {
    "tags": []
   },
   "outputs": [
    {
     "output_type": "error",
     "ename": "IndexError",
     "evalue": "list index out of range",
     "traceback": [
      "\u001b[1;31m---------------------------------------------------------------------------\u001b[0m",
      "\u001b[1;31mIndexError\u001b[0m                                Traceback (most recent call last)",
      "\u001b[1;32m<ipython-input-4-9782c7f87a85>\u001b[0m in \u001b[0;36m<module>\u001b[1;34m\u001b[0m\n\u001b[0;32m      1\u001b[0m \u001b[0ma\u001b[0m\u001b[1;33m=\u001b[0m\u001b[1;33m[\u001b[0m\u001b[1;33m]\u001b[0m\u001b[1;33m\u001b[0m\u001b[1;33m\u001b[0m\u001b[0m\n\u001b[1;32m----> 2\u001b[1;33m \u001b[0ma\u001b[0m\u001b[1;33m[\u001b[0m\u001b[1;33m-\u001b[0m\u001b[1;36m1\u001b[0m\u001b[1;33m]\u001b[0m\u001b[1;33m\u001b[0m\u001b[1;33m\u001b[0m\u001b[0m\n\u001b[0m",
      "\u001b[1;31mIndexError\u001b[0m: list index out of range"
     ]
    }
   ],
   "source": [
    "if(len(M1EndT)==0):\n",
    "    \n",
    "\n",
    "\n",
    "\n",
    "if(M1EndT[-1]>M2EndT[-1] and M1EndT[-1]>M3EndT[-1]):\n",
    "    Makespan=M1EndT[-1]\n",
    "elif(M2EndT[-1]>M1EndT[-1] and M2EndT[-1]>M3EndT[-1]):\n",
    "    Makespan=M2EndT[-1]\n",
    "else:\n",
    "    Makespan=M3EndT[-1]\n"
   ]
  },
  {
   "cell_type": "code",
   "execution_count": 9,
   "metadata": {
    "tags": []
   },
   "outputs": [],
   "source": [
    "a=0\n",
    "if(a==2 or a==1 or a==2):\n",
    "    print(\"YeS\")\n",
    "\n"
   ]
  },
  {
   "cell_type": "code",
   "execution_count": null,
   "metadata": {
    "tags": []
   },
   "outputs": [],
   "source": [
    "#合成三維array\n",
    "\n",
    "import numpy as np\n",
    "a=np.zeros((5, 20))\n",
    "list1=[0.2,0.8,0.4,0.9,0.4,0.1,0.7]\n",
    "list2=[3,4,5,6]\n",
    "for i in range(len(list1)):\n",
    "    a[0][i]=list1[i]\n",
    "for i in range(len(list2)):\n",
    "    a[1][i]=list2[i]\n",
    "print(a)\n",
    "\n",
    "#取出非0的值\n",
    "print(a[0])\n",
    "x = a[0].nonzero() \n",
    "print(x)\n",
    "print(a[0][x])"
   ]
  },
  {
   "cell_type": "code",
   "execution_count": 30,
   "metadata": {
    "tags": []
   },
   "outputs": [
    {
     "output_type": "stream",
     "name": "stdout",
     "text": "[[[0.2 0.8 0.4 0.9 0.4 0.1 0.7 0.  0.  0.  0.  0.  0.  0.  0.  0.  0.\n   0.  0.  0. ]\n  [3.  4.  5.  6.  0.  0.  0.  0.  0.  0.  0.  0.  0.  0.  0.  0.  0.\n   0.  0.  0. ]\n  [0.  0.  0.  0.  0.  0.  0.  0.  0.  0.  0.  0.  0.  0.  0.  0.  0.\n   0.  0.  0. ]\n  [0.  0.  0.  0.  0.  0.  0.  0.  0.  0.  0.  0.  0.  0.  0.  0.  0.\n   0.  0.  0. ]\n  [0.  0.  0.  0.  0.  0.  0.  0.  0.  0.  0.  0.  0.  0.  0.  0.  0.\n   0.  0.  0. ]]\n\n [[0.  0.  0.  0.  0.  0.  0.  0.  0.  0.  0.  0.  0.  0.  0.  0.  0.\n   0.  0.  0. ]\n  [0.  0.  0.  0.  0.  0.  0.  0.  0.  0.  0.  0.  0.  0.  0.  0.  0.\n   0.  0.  0. ]\n  [0.  0.  0.  0.  0.  0.  0.  0.  0.  0.  0.  0.  0.  0.  0.  0.  0.\n   0.  0.  0. ]\n  [0.  0.  0.  0.  0.  0.  0.  0.  0.  0.  0.  0.  0.  0.  0.  0.  0.\n   0.  0.  0. ]\n  [0.  0.  0.  0.  0.  0.  0.  0.  0.  0.  0.  0.  0.  0.  0.  0.  0.\n   0.  0.  0. ]]\n\n [[0.  0.  0.  0.  0.  0.  0.  0.  0.  0.  0.  0.  0.  0.  0.  0.  0.\n   0.  0.  0. ]\n  [0.  0.  0.  0.  0.  0.  0.  0.  0.  0.  0.  0.  0.  0.  0.  0.  0.\n   0.  0.  0. ]\n  [0.  0.  0.  0.  0.  0.  0.  0.  0.  0.  0.  0.  0.  0.  0.  0.  0.\n   0.  0.  0. ]\n  [0.  0.  0.  0.  0.  0.  0.  0.  0.  0.  0.  0.  0.  0.  0.  0.  0.\n   0.  0.  0. ]\n  [0.  0.  0.  0.  0.  0.  0.  0.  0.  0.  0.  0.  0.  0.  0.  0.  0.\n   0.  0.  0. ]]\n\n [[0.  0.  0.  0.  0.  0.  0.  0.  0.  0.  0.  0.  0.  0.  0.  0.  0.\n   0.  0.  0. ]\n  [0.  0.  0.  0.  0.  0.  0.  0.  0.  0.  0.  0.  0.  0.  0.  0.  0.\n   0.  0.  0. ]\n  [0.  0.  0.  0.  0.  0.  0.  0.  0.  0.  0.  0.  0.  0.  0.  0.  0.\n   0.  0.  0. ]\n  [0.  0.  0.  0.  0.  0.  0.  0.  0.  0.  0.  0.  0.  0.  0.  0.  0.\n   0.  0.  0. ]\n  [0.  0.  0.  0.  0.  0.  0.  0.  0.  0.  0.  0.  0.  0.  0.  0.  0.\n   0.  0.  0. ]]\n\n [[0.  0.  0.  0.  0.  0.  0.  0.  0.  0.  0.  0.  0.  0.  0.  0.  0.\n   0.  0.  0. ]\n  [0.  0.  0.  0.  0.  0.  0.  0.  0.  0.  0.  0.  0.  0.  0.  0.  0.\n   0.  0.  0. ]\n  [0.  0.  0.  0.  0.  0.  0.  0.  0.  0.  0.  0.  0.  0.  0.  0.  0.\n   0.  0.  0. ]\n  [0.  0.  0.  0.  0.  0.  0.  0.  0.  0.  0.  0.  0.  0.  0.  0.  0.\n   0.  0.  0. ]\n  [0.  0.  0.  0.  0.  0.  0.  0.  0.  0.  0.  0.  0.  0.  0.  0.  0.\n   0.  0.  0. ]]\n\n [[0.  0.  0.  0.  0.  0.  0.  0.  0.  0.  0.  0.  0.  0.  0.  0.  0.\n   0.  0.  0. ]\n  [0.  0.  0.  0.  0.  0.  0.  0.  0.  0.  0.  0.  0.  0.  0.  0.  0.\n   0.  0.  0. ]\n  [0.  0.  0.  0.  0.  0.  0.  0.  0.  0.  0.  0.  0.  0.  0.  0.  0.\n   0.  0.  0. ]\n  [0.  0.  0.  0.  0.  0.  0.  0.  0.  0.  0.  0.  0.  0.  0.  0.  0.\n   0.  0.  0. ]\n  [0.  0.  0.  0.  0.  0.  0.  0.  0.  0.  0.  0.  0.  0.  0.  0.  0.\n   0.  0.  0. ]]\n\n [[0.  0.  0.  0.  0.  0.  0.  0.  0.  0.  0.  0.  0.  0.  0.  0.  0.\n   0.  0.  0. ]\n  [0.  0.  0.  0.  0.  0.  0.  0.  0.  0.  0.  0.  0.  0.  0.  0.  0.\n   0.  0.  0. ]\n  [0.  0.  0.  0.  0.  0.  0.  0.  0.  0.  0.  0.  0.  0.  0.  0.  0.\n   0.  0.  0. ]\n  [0.  0.  0.  0.  0.  0.  0.  0.  0.  0.  0.  0.  0.  0.  0.  0.  0.\n   0.  0.  0. ]\n  [0.  0.  0.  0.  0.  0.  0.  0.  0.  0.  0.  0.  0.  0.  0.  0.  0.\n   0.  0.  0. ]]\n\n [[0.  0.  0.  0.  0.  0.  0.  0.  0.  0.  0.  0.  0.  0.  0.  0.  0.\n   0.  0.  0. ]\n  [0.  0.  0.  0.  0.  0.  0.  0.  0.  0.  0.  0.  0.  0.  0.  0.  0.\n   0.  0.  0. ]\n  [0.  0.  0.  0.  0.  0.  0.  0.  0.  0.  0.  0.  0.  0.  0.  0.  0.\n   0.  0.  0. ]\n  [0.  0.  0.  0.  0.  0.  0.  0.  0.  0.  0.  0.  0.  0.  0.  0.  0.\n   0.  0.  0. ]\n  [0.  0.  0.  0.  0.  0.  0.  0.  0.  0.  0.  0.  0.  0.  0.  0.  0.\n   0.  0.  0. ]]\n\n [[0.  0.  0.  0.  0.  0.  0.  0.  0.  0.  0.  0.  0.  0.  0.  0.  0.\n   0.  0.  0. ]\n  [0.  0.  0.  0.  0.  0.  0.  0.  0.  0.  0.  0.  0.  0.  0.  0.  0.\n   0.  0.  0. ]\n  [0.  0.  0.  0.  0.  0.  0.  0.  0.  0.  0.  0.  0.  0.  0.  0.  0.\n   0.  0.  0. ]\n  [0.  0.  0.  0.  0.  0.  0.  0.  0.  0.  0.  0.  0.  0.  0.  0.  0.\n   0.  0.  0. ]\n  [0.  0.  0.  0.  0.  0.  0.  0.  0.  0.  0.  0.  0.  0.  0.  0.  0.\n   0.  0.  0. ]]\n\n [[0.  0.  0.  0.  0.  0.  0.  0.  0.  0.  0.  0.  0.  0.  0.  0.  0.\n   0.  0.  0. ]\n  [0.  0.  0.  0.  0.  0.  0.  0.  0.  0.  0.  0.  0.  0.  0.  0.  0.\n   0.  0.  0. ]\n  [0.  0.  0.  0.  0.  0.  0.  0.  0.  0.  0.  0.  0.  0.  0.  0.  0.\n   0.  0.  0. ]\n  [0.  0.  0.  0.  0.  0.  0.  0.  0.  0.  0.  0.  0.  0.  0.  0.  0.\n   0.  0.  0. ]\n  [0.  0.  0.  0.  0.  0.  0.  0.  0.  0.  0.  0.  0.  0.  0.  0.  0.\n   0.  0.  0. ]]]\n"
    }
   ],
   "source": [
    "import numpy as np\n",
    "a=np.zeros((10,5,20))\n",
    "list1=[0.2,0.8,0.4,0.9,0.4,0.1,0.7]\n",
    "list2=[3,4,5,6]\n",
    "for i in range(len(list1)):\n",
    "    a[0][0][i]=list1[i]\n",
    "for i in range(len(list2)):\n",
    "    a[0][1][i]=list2[i]\n",
    "print(a)"
   ]
  },
  {
   "cell_type": "code",
   "execution_count": 31,
   "metadata": {
    "tags": []
   },
   "outputs": [
    {
     "output_type": "stream",
     "name": "stdout",
     "text": "[1 2 3 4 5 6 2 2 3 4 5 6 3 2 3 4 5 6 4 2 3 4 5 6]\n原矩阵维数： (3, 2, 3)\n合并矩阵：\n [[[1 2 3]\n  [4 5 6]]\n\n [[2 2 3]\n  [4 5 6]]\n\n [[3 2 3]\n  [4 5 6]]\n\n [[4 2 3]\n  [4 5 6]]]\n维数： (4, 2, 3)\n"
    }
   ],
   "source": [
    "import numpy as np\n",
    "\n",
    "aa = np.array([[[1,2,3],[4,5,6]],[[2,2,3],[4,5,6]],[[3,2,3],[4,5,6]]])\n",
    "a = np.array([[4,2,3],[4,5,6]])\n",
    "data = np.append(aa,a)#先拼接成一个行向量\n",
    "print(data)\n",
    "\n",
    "dim = aa.shape#获取原矩阵的维数\n",
    "print('原矩阵维数：',dim)\n",
    "data1 = data.reshape(dim[0]+1,dim[1],dim[2])#再通过原矩阵的维数重新组合\n",
    "\n",
    "print('合并矩阵：\\n',data1)\n",
    "print('维数：',data1.shape)"
   ]
  },
  {
   "cell_type": "code",
   "execution_count": 39,
   "metadata": {},
   "outputs": [
    {
     "output_type": "execute_result",
     "data": {
      "text/plain": "3"
     },
     "metadata": {},
     "execution_count": 39
    }
   ],
   "source": [
    "import math\n",
    "a=math.ceil(2.5)\n",
    "a"
   ]
  },
  {
   "cell_type": "code",
   "execution_count": 91,
   "metadata": {
    "tags": []
   },
   "outputs": [
    {
     "output_type": "stream",
     "name": "stdout",
     "text": "[1, 4]\n0 3\n"
    }
   ],
   "source": [
    "#任兩條進行交配\n",
    "import random\n",
    "PopulationNum=5\n",
    "size=range(1,6)  #母體大小 \n",
    "\n",
    "AnyTwo=random.sample(size, 2)\n",
    "AnyTwo.sort()\n",
    "print(AnyTwo)\n",
    "\n",
    "FirstC=AnyTwo[0]\n",
    "SecondC=AnyTwo[1]\n",
    "print(FirstC-1,SecondC-1)"
   ]
  },
  {
   "cell_type": "code",
   "execution_count": 138,
   "metadata": {
    "tags": []
   },
   "outputs": [
    {
     "output_type": "stream",
     "name": "stdout",
     "text": "[[[ 8  2]\n  [ 3  7]\n  [ 5  0]]\n\n [[ 2  5]\n  [ 8  3]\n  [10  0]]]\n--------------\n[[[ 2  5]\n  [ 8  3]\n  [10  0]]\n\n [[ 8  2]\n  [ 3  7]\n  [ 5  0]]]\n"
    }
   ],
   "source": [
    "import numpy as np\n",
    "A=np.array([[[8,2],[3,7],[5,0]],[[2,5],[8,3],[10,0]]])\n",
    "print(A) \n",
    "print(\"--------------\")\n",
    "Answer=np.array([[[2,5],[8,3],[10,0]],[[8,2],[3,7],[5,0]]])\n",
    "print(Answer)\n"
   ]
  },
  {
   "cell_type": "code",
   "execution_count": 140,
   "metadata": {
    "tags": []
   },
   "outputs": [
    {
     "output_type": "stream",
     "name": "stdout",
     "text": "0\n1\n2\n3\n4\n"
    }
   ],
   "source": [
    "for i in range(0,2):\n",
    "    print(i)\n",
    "for i in range(2,5):\n",
    "    print(i)"
   ]
  },
  {
   "cell_type": "code",
   "execution_count": 147,
   "metadata": {
    "tags": []
   },
   "outputs": [
    {
     "output_type": "stream",
     "name": "stdout",
     "text": "[20]\n[49]\n[33]\n[41]\n[27]\n[7]\n[34]\n[33]\n[28]\n[42]\n[40]\n[43]\n[24]\n[48]\n[24]\n[46]\n[1]\n[38]\n[19]\n[34]\n[48]\n[13]\n[10]\n[11]\n[0]\n[1]\n[32]\n[40]\n[31]\n[0]\n[47]\n[3]\n[38]\n[24]\n[9]\n[27]\n[39]\n[2]\n[30]\n[26]\n[48]\n[35]\n[38]\n[0]\n[8]\n[41]\n[4]\n[30]\n[1]\n[21]\n"
    }
   ],
   "source": [
    "    PopulationNum=50\n",
    "    size=range(0,PopulationNum)  #母體大小\n",
    "    for i in range(50):\n",
    "        AnyTwo=random.sample(size, 1)\n",
    "        print(AnyTwo)\n",
    "    "
   ]
  },
  {
   "cell_type": "code",
   "execution_count": 154,
   "metadata": {
    "tags": []
   },
   "outputs": [
    {
     "output_type": "stream",
     "name": "stdout",
     "text": "[80, 90, 0]\n[90, 80, 0]\n90\n"
    }
   ],
   "source": [
    "EndTList=[]\n",
    "EndTList.append(M1EndT[-1])\n",
    "EndTList.append(M2EndT[-1])\n",
    "EndTList.append(M3EndT[-1])\n",
    "\n",
    "OrderEndT=sorted(EndTList,reverse=True) #由大到小\n",
    "print(OrderEndT[0])\n"
   ]
  },
  {
   "cell_type": "code",
   "execution_count": 157,
   "metadata": {},
   "outputs": [
    {
     "output_type": "execute_result",
     "data": {
      "text/plain": "[0, 1, 2]"
     },
     "metadata": {},
     "execution_count": 157
    }
   ],
   "source": [
    "a=3\n",
    "sequence=[i for i in range(a)]\n",
    "sequence"
   ]
  },
  {
   "cell_type": "code",
   "execution_count": 81,
   "metadata": {
    "tags": []
   },
   "outputs": [
    {
     "output_type": "stream",
     "name": "stdout",
     "text": "[0, 0.2222222222222222, 0.41666666666666663, 0.5833333333333333, 0.7222222222222221, 0.8333333333333333, 0.9166666666666666, 0.9722222222222222]\n8\n[3, 0, 5, 6, 4, 1, 2]\n13\n10\n15\n16\n14\n11\n12\n"
    }
   ],
   "source": [
    "#菁英制\n",
    "PopulationNum=50\n",
    "#for i in range(int(PopulationNum*0.2)): #10\n",
    "    #print(i)\n",
    "    #FinalChromosome[i]=TotalChromosome[OrderMs[i][0]]\n",
    "\n",
    "#等級輪盤制\n",
    "#for i in range(int(PopulationNum*0.2),PopulationNum*2): #10-100\n",
    "    #print(i)\n",
    "\n",
    "makespan=[8,9,10,11,12,13,14,15]\n",
    "\n",
    "def sum(num): #分母\n",
    "    sum = 0\n",
    "    x=1\n",
    "    while x < num+1:\n",
    "        sum = sum + x\n",
    "        x+=1\n",
    "    return sum\n",
    "Sum=sum(len(makespan)) #1+2+...+8\n",
    "\n",
    "t=0\n",
    "proba_list=[0]\n",
    "for i in range(len(makespan)-1):\n",
    "    proba=(len(makespan)-i)/Sum #8/36\n",
    "    t+=proba\n",
    "    proba_list.append(t) \n",
    "print(proba_list) \n",
    "\n",
    "def getk2():\n",
    "    import random\n",
    "    selectone=random.random()\n",
    "    #print(selectone)\n",
    "\n",
    "    k2=-1\n",
    "    for i in range(len(proba_list)):\n",
    "        if(selectone>proba_list[i]):\n",
    "            k2+=1\n",
    "    return k2\n",
    "\n",
    "select_index=[]\n",
    "count=0\n",
    "while(len(select_index)<7): #不重複 #7個\n",
    "    count+=1\n",
    "    temp=getk2()\n",
    "    if(temp not in select_index):\n",
    "        select_index.append(temp)\n",
    "print(count)\n",
    "print(select_index)\n",
    "\n",
    "for i in select_index:\n",
    "    print(i+10)\n",
    "\n",
    "    \n"
   ]
  },
  {
   "cell_type": "code",
   "execution_count": 79,
   "metadata": {},
   "outputs": [
    {
     "output_type": "execute_result",
     "data": {
      "text/plain": "0.2222222222222222"
     },
     "metadata": {},
     "execution_count": 79
    }
   ],
   "source": [
    "a=1+2+3+4+5+6+7+8\n",
    "a\n",
    "b=8/36\n",
    "b"
   ]
  },
  {
   "cell_type": "code",
   "execution_count": 85,
   "metadata": {
    "tags": []
   },
   "outputs": [
    {
     "output_type": "stream",
     "name": "stdout",
     "text": "[0, 0.02197802197802198, 0.04371184371184371, 0.06520146520146519, 0.08644688644688645, 0.10744810744810745, 0.12820512820512822, 0.14871794871794874, 0.16898656898656902, 0.18901098901098906, 0.20879120879120883, 0.22832722832722835, 0.24761904761904763, 0.26666666666666666, 0.28547008547008546, 0.304029304029304, 0.3223443223443223, 0.34041514041514037, 0.3582417582417582, 0.37582417582417577, 0.3931623931623931, 0.4102564102564102, 0.42710622710622703, 0.44371184371184363, 0.46007326007326, 0.4761904761904761, 0.492063492063492, 0.5076923076923077, 0.523076923076923, 0.5382173382173381, 0.5531135531135529, 0.5677655677655675, 0.5821733821733819, 0.596336996336996, 0.6102564102564099, 0.6239316239316235, 0.6373626373626369, 0.65054945054945, 0.6634920634920629, 0.6761904761904756, 0.688644688644688, 0.7008547008547001, 0.7128205128205121, 0.7245421245421237, 0.7360195360195352, 0.7472527472527464, 0.7582417582417573, 0.768986568986568, 0.7794871794871785, 0.7897435897435887, 0.7997557997557987, 0.8095238095238084, 0.8190476190476179, 0.8283272283272272, 0.8373626373626362, 0.8461538461538449, 0.8547008547008534, 0.8630036630036617, 0.8710622710622697, 0.8788766788766775, 0.8864468864468851, 0.8937728937728924, 0.9008547008546994, 0.9076923076923062, 0.9142857142857128, 0.9206349206349191, 0.9267399267399252, 0.9326007326007311, 0.9382173382173367, 0.943589743589742, 0.9487179487179471, 0.953601953601952, 0.9582417582417566, 0.962637362637361, 0.9667887667887651, 0.970695970695969, 0.9743589743589727, 0.9777777777777761, 0.9809523809523792, 0.9838827838827822, 0.9865689865689848, 0.9890109890109873, 0.9912087912087895, 0.9931623931623914, 0.9948717948717931, 0.9963369963369946, 0.9975579975579958, 0.9985347985347968, 0.9992673992673975, 0.999755799755798, 0.9999999999999982]\n"
    }
   ],
   "source": [
    "def sum(num): #分母\n",
    "    sum = 0\n",
    "    x=1\n",
    "    while x < num+1:\n",
    "        sum = sum + x\n",
    "        x+=1\n",
    "    return sum\n",
    "Sum=sum(90) #1+2+...+8\n",
    "\n",
    "t=0\n",
    "proba_list=[0]\n",
    "for i in range(90):\n",
    "    proba=(90-i)/Sum #8/36\n",
    "    t+=proba\n",
    "    proba_list.append(t) \n",
    "print(proba_list) "
   ]
  },
  {
   "cell_type": "code",
   "execution_count": 93,
   "metadata": {
    "tags": []
   },
   "outputs": [
    {
     "output_type": "stream",
     "name": "stdout",
     "text": "[0, 2, 4, 3, 1]\n"
    }
   ],
   "source": [
    "size1=range(0,5)\n",
    "AnyChros=random.sample(size1, 5)\n",
    "print(AnyChros)"
   ]
  },
  {
   "cell_type": "code",
   "execution_count": 109,
   "metadata": {},
   "outputs": [
    {
     "output_type": "execute_result",
     "data": {
      "text/plain": "18"
     },
     "metadata": {},
     "execution_count": 109
    }
   ],
   "source": [
    "    import math\n",
    "    PopulationNum=50\n",
    "    Matingrate=0.33\n",
    "    MatingNum=math.ceil(PopulationNum*Matingrate) #無條件進位\n",
    "    if(MatingNum%2==1):\n",
    "        MatingNum+=1\n",
    "    #Question\n",
    "    tempMateNum=30\n",
    "    tempMutationNum=20\n",
    "    MatingNum"
   ]
  },
  {
   "cell_type": "code",
   "execution_count": 108,
   "metadata": {},
   "outputs": [
    {
     "output_type": "execute_result",
     "data": {
      "text/plain": "17"
     },
     "metadata": {},
     "execution_count": 108
    }
   ],
   "source": [
    "    import math\n",
    "    PopulationNum=50\n",
    "    Matingrate=0.33\n",
    "    MatingNum=PopulationNum*Matingrate #無條件進位\n",
    "    if(MatingNum%10!=0):\n",
    "        MatingNum=math.ceil(MatingNum)\n",
    "    #Question\n",
    "    tempMateNum=30\n",
    "    tempMutationNum=20\n",
    "    MatingNum"
   ]
  },
  {
   "cell_type": "code",
   "execution_count": null,
   "metadata": {},
   "outputs": [],
   "source": []
  }
 ]
}