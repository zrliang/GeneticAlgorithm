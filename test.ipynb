{
 "metadata": {
  "language_info": {
   "codemirror_mode": {
    "name": "ipython",
    "version": 3
   },
   "file_extension": ".py",
   "mimetype": "text/x-python",
   "name": "python",
   "nbconvert_exporter": "python",
   "pygments_lexer": "ipython3",
   "version": 3
  },
  "orig_nbformat": 2,
  "kernelspec": {
   "name": "python_defaultSpec_1596096497832",
   "display_name": "Python 3.7.8 64-bit"
  }
 },
 "nbformat": 4,
 "nbformat_minor": 2,
 "cells": [
  {
   "cell_type": "code",
   "execution_count": 2,
   "metadata": {
    "tags": []
   },
   "outputs": [
    {
     "output_type": "stream",
     "name": "stdout",
     "text": "optimal sequence [6, 8, 3, 6, 8, 7, 5, 7, 6, 3, 1, 6, 3, 8, 9, 1, 6, 3, 9, 9, 9, 5, 5, 4, 9, 3, 6, 1, 5, 5, 7, 1, 8, 8, 4, 7, 9, 7, 4, 3, 8, 1, 5, 4, 7, 4, 6, 0, 8, 0, 2, 0, 3, 0, 0, 4, 3, 7, 0, 0, 2, 1, 2, 3, 6, 7, 0, 6, 4, 5, 2, 0, 2, 1, 4, 9, 1, 9, 2, 8, 7, 9, 3, 5, 2, 0, 1, 2, 5, 4, 7, 9, 8, 2, 4, 6, 1, 5, 8, 2]\noptimal value:1199.000000\nthe elapsed time:60.99679660797119\n"
    },
    {
     "output_type": "display_data",
     "data": {
      "text/plain": "<Figure size 432x288 with 1 Axes>",
      "image/svg+xml": "<?xml version=\"1.0\" encoding=\"utf-8\" standalone=\"no\"?>\r\n<!DOCTYPE svg PUBLIC \"-//W3C//DTD SVG 1.1//EN\"\r\n  \"http://www.w3.org/Graphics/SVG/1.1/DTD/svg11.dtd\">\r\n<!-- Created with matplotlib (https://matplotlib.org/) -->\r\n<svg height=\"267.035312pt\" version=\"1.1\" viewBox=\"0 0 400.167187 267.035312\" width=\"400.167187pt\" xmlns=\"http://www.w3.org/2000/svg\" xmlns:xlink=\"http://www.w3.org/1999/xlink\">\r\n <metadata>\r\n  <rdf:RDF xmlns:cc=\"http://creativecommons.org/ns#\" xmlns:dc=\"http://purl.org/dc/elements/1.1/\" xmlns:rdf=\"http://www.w3.org/1999/02/22-rdf-syntax-ns#\">\r\n   <cc:Work>\r\n    <dc:type rdf:resource=\"http://purl.org/dc/dcmitype/StillImage\"/>\r\n    <dc:date>2020-07-30T16:10:56.935346</dc:date>\r\n    <dc:format>image/svg+xml</dc:format>\r\n    <dc:creator>\r\n     <cc:Agent>\r\n      <dc:title>Matplotlib v3.3.0, https://matplotlib.org/</dc:title>\r\n     </cc:Agent>\r\n    </dc:creator>\r\n   </cc:Work>\r\n  </rdf:RDF>\r\n </metadata>\r\n <defs>\r\n  <style type=\"text/css\">*{stroke-linecap:butt;stroke-linejoin:round;}</style>\r\n </defs>\r\n <g id=\"figure_1\">\r\n  <g id=\"patch_1\">\r\n   <path d=\"M 0 267.035312 \r\nL 400.167187 267.035312 \r\nL 400.167187 0 \r\nL 0 0 \r\nz\r\n\" style=\"fill:none;\"/>\r\n  </g>\r\n  <g id=\"axes_1\">\r\n   <g id=\"patch_2\">\r\n    <path d=\"M 58.167188 224.64 \r\nL 392.967188 224.64 \r\nL 392.967188 7.2 \r\nL 58.167188 7.2 \r\nz\r\n\" style=\"fill:#ffffff;\"/>\r\n   </g>\r\n   <g id=\"matplotlib.axis_1\">\r\n    <g id=\"xtick_1\">\r\n     <g id=\"line2d_1\">\r\n      <defs>\r\n       <path d=\"M 0 0 \r\nL 0 3.5 \r\n\" id=\"m17e192b154\" style=\"stroke:#000000;stroke-width:0.8;\"/>\r\n      </defs>\r\n      <g>\r\n       <use style=\"stroke:#000000;stroke-width:0.8;\" x=\"73.385369\" xlink:href=\"#m17e192b154\" y=\"224.64\"/>\r\n      </g>\r\n     </g>\r\n     <g id=\"text_1\">\r\n      <!-- 0 -->\r\n      <g transform=\"translate(70.204119 239.238437)scale(0.1 -0.1)\">\r\n       <defs>\r\n        <path d=\"M 31.78125 66.40625 \r\nQ 24.171875 66.40625 20.328125 58.90625 \r\nQ 16.5 51.421875 16.5 36.375 \r\nQ 16.5 21.390625 20.328125 13.890625 \r\nQ 24.171875 6.390625 31.78125 6.390625 \r\nQ 39.453125 6.390625 43.28125 13.890625 \r\nQ 47.125 21.390625 47.125 36.375 \r\nQ 47.125 51.421875 43.28125 58.90625 \r\nQ 39.453125 66.40625 31.78125 66.40625 \r\nz\r\nM 31.78125 74.21875 \r\nQ 44.046875 74.21875 50.515625 64.515625 \r\nQ 56.984375 54.828125 56.984375 36.375 \r\nQ 56.984375 17.96875 50.515625 8.265625 \r\nQ 44.046875 -1.421875 31.78125 -1.421875 \r\nQ 19.53125 -1.421875 13.0625 8.265625 \r\nQ 6.59375 17.96875 6.59375 36.375 \r\nQ 6.59375 54.828125 13.0625 64.515625 \r\nQ 19.53125 74.21875 31.78125 74.21875 \r\nz\r\n\" id=\"DejaVuSans-48\"/>\r\n       </defs>\r\n       <use xlink:href=\"#DejaVuSans-48\"/>\r\n      </g>\r\n     </g>\r\n    </g>\r\n    <g id=\"xtick_2\">\r\n     <g id=\"line2d_2\">\r\n      <g>\r\n       <use style=\"stroke:#000000;stroke-width:0.8;\" x=\"111.449856\" xlink:href=\"#m17e192b154\" y=\"224.64\"/>\r\n      </g>\r\n     </g>\r\n     <g id=\"text_2\">\r\n      <!-- 250 -->\r\n      <g transform=\"translate(101.906106 239.238437)scale(0.1 -0.1)\">\r\n       <defs>\r\n        <path d=\"M 19.1875 8.296875 \r\nL 53.609375 8.296875 \r\nL 53.609375 0 \r\nL 7.328125 0 \r\nL 7.328125 8.296875 \r\nQ 12.9375 14.109375 22.625 23.890625 \r\nQ 32.328125 33.6875 34.8125 36.53125 \r\nQ 39.546875 41.84375 41.421875 45.53125 \r\nQ 43.3125 49.21875 43.3125 52.78125 \r\nQ 43.3125 58.59375 39.234375 62.25 \r\nQ 35.15625 65.921875 28.609375 65.921875 \r\nQ 23.96875 65.921875 18.8125 64.3125 \r\nQ 13.671875 62.703125 7.8125 59.421875 \r\nL 7.8125 69.390625 \r\nQ 13.765625 71.78125 18.9375 73 \r\nQ 24.125 74.21875 28.421875 74.21875 \r\nQ 39.75 74.21875 46.484375 68.546875 \r\nQ 53.21875 62.890625 53.21875 53.421875 \r\nQ 53.21875 48.921875 51.53125 44.890625 \r\nQ 49.859375 40.875 45.40625 35.40625 \r\nQ 44.1875 33.984375 37.640625 27.21875 \r\nQ 31.109375 20.453125 19.1875 8.296875 \r\nz\r\n\" id=\"DejaVuSans-50\"/>\r\n        <path d=\"M 10.796875 72.90625 \r\nL 49.515625 72.90625 \r\nL 49.515625 64.59375 \r\nL 19.828125 64.59375 \r\nL 19.828125 46.734375 \r\nQ 21.96875 47.46875 24.109375 47.828125 \r\nQ 26.265625 48.1875 28.421875 48.1875 \r\nQ 40.625 48.1875 47.75 41.5 \r\nQ 54.890625 34.8125 54.890625 23.390625 \r\nQ 54.890625 11.625 47.5625 5.09375 \r\nQ 40.234375 -1.421875 26.90625 -1.421875 \r\nQ 22.3125 -1.421875 17.546875 -0.640625 \r\nQ 12.796875 0.140625 7.71875 1.703125 \r\nL 7.71875 11.625 \r\nQ 12.109375 9.234375 16.796875 8.0625 \r\nQ 21.484375 6.890625 26.703125 6.890625 \r\nQ 35.15625 6.890625 40.078125 11.328125 \r\nQ 45.015625 15.765625 45.015625 23.390625 \r\nQ 45.015625 31 40.078125 35.4375 \r\nQ 35.15625 39.890625 26.703125 39.890625 \r\nQ 22.75 39.890625 18.8125 39.015625 \r\nQ 14.890625 38.140625 10.796875 36.28125 \r\nz\r\n\" id=\"DejaVuSans-53\"/>\r\n       </defs>\r\n       <use xlink:href=\"#DejaVuSans-50\"/>\r\n       <use x=\"63.623047\" xlink:href=\"#DejaVuSans-53\"/>\r\n       <use x=\"127.246094\" xlink:href=\"#DejaVuSans-48\"/>\r\n      </g>\r\n     </g>\r\n    </g>\r\n    <g id=\"xtick_3\">\r\n     <g id=\"line2d_3\">\r\n      <g>\r\n       <use style=\"stroke:#000000;stroke-width:0.8;\" x=\"149.514343\" xlink:href=\"#m17e192b154\" y=\"224.64\"/>\r\n      </g>\r\n     </g>\r\n     <g id=\"text_3\">\r\n      <!-- 500 -->\r\n      <g transform=\"translate(139.970593 239.238437)scale(0.1 -0.1)\">\r\n       <use xlink:href=\"#DejaVuSans-53\"/>\r\n       <use x=\"63.623047\" xlink:href=\"#DejaVuSans-48\"/>\r\n       <use x=\"127.246094\" xlink:href=\"#DejaVuSans-48\"/>\r\n      </g>\r\n     </g>\r\n    </g>\r\n    <g id=\"xtick_4\">\r\n     <g id=\"line2d_4\">\r\n      <g>\r\n       <use style=\"stroke:#000000;stroke-width:0.8;\" x=\"187.57883\" xlink:href=\"#m17e192b154\" y=\"224.64\"/>\r\n      </g>\r\n     </g>\r\n     <g id=\"text_4\">\r\n      <!-- 750 -->\r\n      <g transform=\"translate(178.03508 239.238437)scale(0.1 -0.1)\">\r\n       <defs>\r\n        <path d=\"M 8.203125 72.90625 \r\nL 55.078125 72.90625 \r\nL 55.078125 68.703125 \r\nL 28.609375 0 \r\nL 18.3125 0 \r\nL 43.21875 64.59375 \r\nL 8.203125 64.59375 \r\nz\r\n\" id=\"DejaVuSans-55\"/>\r\n       </defs>\r\n       <use xlink:href=\"#DejaVuSans-55\"/>\r\n       <use x=\"63.623047\" xlink:href=\"#DejaVuSans-53\"/>\r\n       <use x=\"127.246094\" xlink:href=\"#DejaVuSans-48\"/>\r\n      </g>\r\n     </g>\r\n    </g>\r\n    <g id=\"xtick_5\">\r\n     <g id=\"line2d_5\">\r\n      <g>\r\n       <use style=\"stroke:#000000;stroke-width:0.8;\" x=\"225.643316\" xlink:href=\"#m17e192b154\" y=\"224.64\"/>\r\n      </g>\r\n     </g>\r\n     <g id=\"text_5\">\r\n      <!-- 1000 -->\r\n      <g transform=\"translate(212.918316 239.238437)scale(0.1 -0.1)\">\r\n       <defs>\r\n        <path d=\"M 12.40625 8.296875 \r\nL 28.515625 8.296875 \r\nL 28.515625 63.921875 \r\nL 10.984375 60.40625 \r\nL 10.984375 69.390625 \r\nL 28.421875 72.90625 \r\nL 38.28125 72.90625 \r\nL 38.28125 8.296875 \r\nL 54.390625 8.296875 \r\nL 54.390625 0 \r\nL 12.40625 0 \r\nz\r\n\" id=\"DejaVuSans-49\"/>\r\n       </defs>\r\n       <use xlink:href=\"#DejaVuSans-49\"/>\r\n       <use x=\"63.623047\" xlink:href=\"#DejaVuSans-48\"/>\r\n       <use x=\"127.246094\" xlink:href=\"#DejaVuSans-48\"/>\r\n       <use x=\"190.869141\" xlink:href=\"#DejaVuSans-48\"/>\r\n      </g>\r\n     </g>\r\n    </g>\r\n    <g id=\"xtick_6\">\r\n     <g id=\"line2d_6\">\r\n      <g>\r\n       <use style=\"stroke:#000000;stroke-width:0.8;\" x=\"263.707803\" xlink:href=\"#m17e192b154\" y=\"224.64\"/>\r\n      </g>\r\n     </g>\r\n     <g id=\"text_6\">\r\n      <!-- 1250 -->\r\n      <g transform=\"translate(250.982803 239.238437)scale(0.1 -0.1)\">\r\n       <use xlink:href=\"#DejaVuSans-49\"/>\r\n       <use x=\"63.623047\" xlink:href=\"#DejaVuSans-50\"/>\r\n       <use x=\"127.246094\" xlink:href=\"#DejaVuSans-53\"/>\r\n       <use x=\"190.869141\" xlink:href=\"#DejaVuSans-48\"/>\r\n      </g>\r\n     </g>\r\n    </g>\r\n    <g id=\"xtick_7\">\r\n     <g id=\"line2d_7\">\r\n      <g>\r\n       <use style=\"stroke:#000000;stroke-width:0.8;\" x=\"301.77229\" xlink:href=\"#m17e192b154\" y=\"224.64\"/>\r\n      </g>\r\n     </g>\r\n     <g id=\"text_7\">\r\n      <!-- 1500 -->\r\n      <g transform=\"translate(289.04729 239.238437)scale(0.1 -0.1)\">\r\n       <use xlink:href=\"#DejaVuSans-49\"/>\r\n       <use x=\"63.623047\" xlink:href=\"#DejaVuSans-53\"/>\r\n       <use x=\"127.246094\" xlink:href=\"#DejaVuSans-48\"/>\r\n       <use x=\"190.869141\" xlink:href=\"#DejaVuSans-48\"/>\r\n      </g>\r\n     </g>\r\n    </g>\r\n    <g id=\"xtick_8\">\r\n     <g id=\"line2d_8\">\r\n      <g>\r\n       <use style=\"stroke:#000000;stroke-width:0.8;\" x=\"339.836777\" xlink:href=\"#m17e192b154\" y=\"224.64\"/>\r\n      </g>\r\n     </g>\r\n     <g id=\"text_8\">\r\n      <!-- 1750 -->\r\n      <g transform=\"translate(327.111777 239.238437)scale(0.1 -0.1)\">\r\n       <use xlink:href=\"#DejaVuSans-49\"/>\r\n       <use x=\"63.623047\" xlink:href=\"#DejaVuSans-55\"/>\r\n       <use x=\"127.246094\" xlink:href=\"#DejaVuSans-53\"/>\r\n       <use x=\"190.869141\" xlink:href=\"#DejaVuSans-48\"/>\r\n      </g>\r\n     </g>\r\n    </g>\r\n    <g id=\"xtick_9\">\r\n     <g id=\"line2d_9\">\r\n      <g>\r\n       <use style=\"stroke:#000000;stroke-width:0.8;\" x=\"377.901264\" xlink:href=\"#m17e192b154\" y=\"224.64\"/>\r\n      </g>\r\n     </g>\r\n     <g id=\"text_9\">\r\n      <!-- 2000 -->\r\n      <g transform=\"translate(365.176264 239.238437)scale(0.1 -0.1)\">\r\n       <use xlink:href=\"#DejaVuSans-50\"/>\r\n       <use x=\"63.623047\" xlink:href=\"#DejaVuSans-48\"/>\r\n       <use x=\"127.246094\" xlink:href=\"#DejaVuSans-48\"/>\r\n       <use x=\"190.869141\" xlink:href=\"#DejaVuSans-48\"/>\r\n      </g>\r\n     </g>\r\n    </g>\r\n    <g id=\"text_10\">\r\n     <!-- generation -->\r\n     <g transform=\"translate(184.777734 256.715781)scale(0.15 -0.15)\">\r\n      <defs>\r\n       <path d=\"M 45.40625 27.984375 \r\nQ 45.40625 37.75 41.375 43.109375 \r\nQ 37.359375 48.484375 30.078125 48.484375 \r\nQ 22.859375 48.484375 18.828125 43.109375 \r\nQ 14.796875 37.75 14.796875 27.984375 \r\nQ 14.796875 18.265625 18.828125 12.890625 \r\nQ 22.859375 7.515625 30.078125 7.515625 \r\nQ 37.359375 7.515625 41.375 12.890625 \r\nQ 45.40625 18.265625 45.40625 27.984375 \r\nz\r\nM 54.390625 6.78125 \r\nQ 54.390625 -7.171875 48.1875 -13.984375 \r\nQ 42 -20.796875 29.203125 -20.796875 \r\nQ 24.46875 -20.796875 20.265625 -20.09375 \r\nQ 16.0625 -19.390625 12.109375 -17.921875 \r\nL 12.109375 -9.1875 \r\nQ 16.0625 -11.328125 19.921875 -12.34375 \r\nQ 23.78125 -13.375 27.78125 -13.375 \r\nQ 36.625 -13.375 41.015625 -8.765625 \r\nQ 45.40625 -4.15625 45.40625 5.171875 \r\nL 45.40625 9.625 \r\nQ 42.625 4.78125 38.28125 2.390625 \r\nQ 33.9375 0 27.875 0 \r\nQ 17.828125 0 11.671875 7.65625 \r\nQ 5.515625 15.328125 5.515625 27.984375 \r\nQ 5.515625 40.671875 11.671875 48.328125 \r\nQ 17.828125 56 27.875 56 \r\nQ 33.9375 56 38.28125 53.609375 \r\nQ 42.625 51.21875 45.40625 46.390625 \r\nL 45.40625 54.6875 \r\nL 54.390625 54.6875 \r\nz\r\n\" id=\"DejaVuSans-103\"/>\r\n       <path d=\"M 56.203125 29.59375 \r\nL 56.203125 25.203125 \r\nL 14.890625 25.203125 \r\nQ 15.484375 15.921875 20.484375 11.0625 \r\nQ 25.484375 6.203125 34.421875 6.203125 \r\nQ 39.59375 6.203125 44.453125 7.46875 \r\nQ 49.3125 8.734375 54.109375 11.28125 \r\nL 54.109375 2.78125 \r\nQ 49.265625 0.734375 44.1875 -0.34375 \r\nQ 39.109375 -1.421875 33.890625 -1.421875 \r\nQ 20.796875 -1.421875 13.15625 6.1875 \r\nQ 5.515625 13.8125 5.515625 26.8125 \r\nQ 5.515625 40.234375 12.765625 48.109375 \r\nQ 20.015625 56 32.328125 56 \r\nQ 43.359375 56 49.78125 48.890625 \r\nQ 56.203125 41.796875 56.203125 29.59375 \r\nz\r\nM 47.21875 32.234375 \r\nQ 47.125 39.59375 43.09375 43.984375 \r\nQ 39.0625 48.390625 32.421875 48.390625 \r\nQ 24.90625 48.390625 20.390625 44.140625 \r\nQ 15.875 39.890625 15.1875 32.171875 \r\nz\r\n\" id=\"DejaVuSans-101\"/>\r\n       <path d=\"M 54.890625 33.015625 \r\nL 54.890625 0 \r\nL 45.90625 0 \r\nL 45.90625 32.71875 \r\nQ 45.90625 40.484375 42.875 44.328125 \r\nQ 39.84375 48.1875 33.796875 48.1875 \r\nQ 26.515625 48.1875 22.3125 43.546875 \r\nQ 18.109375 38.921875 18.109375 30.90625 \r\nL 18.109375 0 \r\nL 9.078125 0 \r\nL 9.078125 54.6875 \r\nL 18.109375 54.6875 \r\nL 18.109375 46.1875 \r\nQ 21.34375 51.125 25.703125 53.5625 \r\nQ 30.078125 56 35.796875 56 \r\nQ 45.21875 56 50.046875 50.171875 \r\nQ 54.890625 44.34375 54.890625 33.015625 \r\nz\r\n\" id=\"DejaVuSans-110\"/>\r\n       <path d=\"M 41.109375 46.296875 \r\nQ 39.59375 47.171875 37.8125 47.578125 \r\nQ 36.03125 48 33.890625 48 \r\nQ 26.265625 48 22.1875 43.046875 \r\nQ 18.109375 38.09375 18.109375 28.8125 \r\nL 18.109375 0 \r\nL 9.078125 0 \r\nL 9.078125 54.6875 \r\nL 18.109375 54.6875 \r\nL 18.109375 46.1875 \r\nQ 20.953125 51.171875 25.484375 53.578125 \r\nQ 30.03125 56 36.53125 56 \r\nQ 37.453125 56 38.578125 55.875 \r\nQ 39.703125 55.765625 41.0625 55.515625 \r\nz\r\n\" id=\"DejaVuSans-114\"/>\r\n       <path d=\"M 34.28125 27.484375 \r\nQ 23.390625 27.484375 19.1875 25 \r\nQ 14.984375 22.515625 14.984375 16.5 \r\nQ 14.984375 11.71875 18.140625 8.90625 \r\nQ 21.296875 6.109375 26.703125 6.109375 \r\nQ 34.1875 6.109375 38.703125 11.40625 \r\nQ 43.21875 16.703125 43.21875 25.484375 \r\nL 43.21875 27.484375 \r\nz\r\nM 52.203125 31.203125 \r\nL 52.203125 0 \r\nL 43.21875 0 \r\nL 43.21875 8.296875 \r\nQ 40.140625 3.328125 35.546875 0.953125 \r\nQ 30.953125 -1.421875 24.3125 -1.421875 \r\nQ 15.921875 -1.421875 10.953125 3.296875 \r\nQ 6 8.015625 6 15.921875 \r\nQ 6 25.140625 12.171875 29.828125 \r\nQ 18.359375 34.515625 30.609375 34.515625 \r\nL 43.21875 34.515625 \r\nL 43.21875 35.40625 \r\nQ 43.21875 41.609375 39.140625 45 \r\nQ 35.0625 48.390625 27.6875 48.390625 \r\nQ 23 48.390625 18.546875 47.265625 \r\nQ 14.109375 46.140625 10.015625 43.890625 \r\nL 10.015625 52.203125 \r\nQ 14.9375 54.109375 19.578125 55.046875 \r\nQ 24.21875 56 28.609375 56 \r\nQ 40.484375 56 46.34375 49.84375 \r\nQ 52.203125 43.703125 52.203125 31.203125 \r\nz\r\n\" id=\"DejaVuSans-97\"/>\r\n       <path d=\"M 18.3125 70.21875 \r\nL 18.3125 54.6875 \r\nL 36.8125 54.6875 \r\nL 36.8125 47.703125 \r\nL 18.3125 47.703125 \r\nL 18.3125 18.015625 \r\nQ 18.3125 11.328125 20.140625 9.421875 \r\nQ 21.96875 7.515625 27.59375 7.515625 \r\nL 36.8125 7.515625 \r\nL 36.8125 0 \r\nL 27.59375 0 \r\nQ 17.1875 0 13.234375 3.875 \r\nQ 9.28125 7.765625 9.28125 18.015625 \r\nL 9.28125 47.703125 \r\nL 2.6875 47.703125 \r\nL 2.6875 54.6875 \r\nL 9.28125 54.6875 \r\nL 9.28125 70.21875 \r\nz\r\n\" id=\"DejaVuSans-116\"/>\r\n       <path d=\"M 9.421875 54.6875 \r\nL 18.40625 54.6875 \r\nL 18.40625 0 \r\nL 9.421875 0 \r\nz\r\nM 9.421875 75.984375 \r\nL 18.40625 75.984375 \r\nL 18.40625 64.59375 \r\nL 9.421875 64.59375 \r\nz\r\n\" id=\"DejaVuSans-105\"/>\r\n       <path d=\"M 30.609375 48.390625 \r\nQ 23.390625 48.390625 19.1875 42.75 \r\nQ 14.984375 37.109375 14.984375 27.296875 \r\nQ 14.984375 17.484375 19.15625 11.84375 \r\nQ 23.34375 6.203125 30.609375 6.203125 \r\nQ 37.796875 6.203125 41.984375 11.859375 \r\nQ 46.1875 17.53125 46.1875 27.296875 \r\nQ 46.1875 37.015625 41.984375 42.703125 \r\nQ 37.796875 48.390625 30.609375 48.390625 \r\nz\r\nM 30.609375 56 \r\nQ 42.328125 56 49.015625 48.375 \r\nQ 55.71875 40.765625 55.71875 27.296875 \r\nQ 55.71875 13.875 49.015625 6.21875 \r\nQ 42.328125 -1.421875 30.609375 -1.421875 \r\nQ 18.84375 -1.421875 12.171875 6.21875 \r\nQ 5.515625 13.875 5.515625 27.296875 \r\nQ 5.515625 40.765625 12.171875 48.375 \r\nQ 18.84375 56 30.609375 56 \r\nz\r\n\" id=\"DejaVuSans-111\"/>\r\n      </defs>\r\n      <use xlink:href=\"#DejaVuSans-103\"/>\r\n      <use x=\"63.476562\" xlink:href=\"#DejaVuSans-101\"/>\r\n      <use x=\"125\" xlink:href=\"#DejaVuSans-110\"/>\r\n      <use x=\"188.378906\" xlink:href=\"#DejaVuSans-101\"/>\r\n      <use x=\"249.902344\" xlink:href=\"#DejaVuSans-114\"/>\r\n      <use x=\"291.015625\" xlink:href=\"#DejaVuSans-97\"/>\r\n      <use x=\"352.294922\" xlink:href=\"#DejaVuSans-116\"/>\r\n      <use x=\"391.503906\" xlink:href=\"#DejaVuSans-105\"/>\r\n      <use x=\"419.287109\" xlink:href=\"#DejaVuSans-111\"/>\r\n      <use x=\"480.46875\" xlink:href=\"#DejaVuSans-110\"/>\r\n     </g>\r\n    </g>\r\n   </g>\r\n   <g id=\"matplotlib.axis_2\">\r\n    <g id=\"ytick_1\">\r\n     <g id=\"line2d_10\">\r\n      <defs>\r\n       <path d=\"M 0 0 \r\nL -3.5 0 \r\n\" id=\"ma19a268e41\" style=\"stroke:#000000;stroke-width:0.8;\"/>\r\n      </defs>\r\n      <g>\r\n       <use style=\"stroke:#000000;stroke-width:0.8;\" x=\"58.167188\" xlink:href=\"#ma19a268e41\" y=\"213.956069\"/>\r\n      </g>\r\n     </g>\r\n     <g id=\"text_11\">\r\n      <!-- 1200 -->\r\n      <g transform=\"translate(25.717188 217.755288)scale(0.1 -0.1)\">\r\n       <use xlink:href=\"#DejaVuSans-49\"/>\r\n       <use x=\"63.623047\" xlink:href=\"#DejaVuSans-50\"/>\r\n       <use x=\"127.246094\" xlink:href=\"#DejaVuSans-48\"/>\r\n       <use x=\"190.869141\" xlink:href=\"#DejaVuSans-48\"/>\r\n      </g>\r\n     </g>\r\n    </g>\r\n    <g id=\"ytick_2\">\r\n     <g id=\"line2d_11\">\r\n      <g>\r\n       <use style=\"stroke:#000000;stroke-width:0.8;\" x=\"58.167188\" xlink:href=\"#ma19a268e41\" y=\"173.941347\"/>\r\n      </g>\r\n     </g>\r\n     <g id=\"text_12\">\r\n      <!-- 1250 -->\r\n      <g transform=\"translate(25.717188 177.740566)scale(0.1 -0.1)\">\r\n       <use xlink:href=\"#DejaVuSans-49\"/>\r\n       <use x=\"63.623047\" xlink:href=\"#DejaVuSans-50\"/>\r\n       <use x=\"127.246094\" xlink:href=\"#DejaVuSans-53\"/>\r\n       <use x=\"190.869141\" xlink:href=\"#DejaVuSans-48\"/>\r\n      </g>\r\n     </g>\r\n    </g>\r\n    <g id=\"ytick_3\">\r\n     <g id=\"line2d_12\">\r\n      <g>\r\n       <use style=\"stroke:#000000;stroke-width:0.8;\" x=\"58.167188\" xlink:href=\"#ma19a268e41\" y=\"133.926625\"/>\r\n      </g>\r\n     </g>\r\n     <g id=\"text_13\">\r\n      <!-- 1300 -->\r\n      <g transform=\"translate(25.717188 137.725844)scale(0.1 -0.1)\">\r\n       <defs>\r\n        <path d=\"M 40.578125 39.3125 \r\nQ 47.65625 37.796875 51.625 33 \r\nQ 55.609375 28.21875 55.609375 21.1875 \r\nQ 55.609375 10.40625 48.1875 4.484375 \r\nQ 40.765625 -1.421875 27.09375 -1.421875 \r\nQ 22.515625 -1.421875 17.65625 -0.515625 \r\nQ 12.796875 0.390625 7.625 2.203125 \r\nL 7.625 11.71875 \r\nQ 11.71875 9.328125 16.59375 8.109375 \r\nQ 21.484375 6.890625 26.8125 6.890625 \r\nQ 36.078125 6.890625 40.9375 10.546875 \r\nQ 45.796875 14.203125 45.796875 21.1875 \r\nQ 45.796875 27.640625 41.28125 31.265625 \r\nQ 36.765625 34.90625 28.71875 34.90625 \r\nL 20.21875 34.90625 \r\nL 20.21875 43.015625 \r\nL 29.109375 43.015625 \r\nQ 36.375 43.015625 40.234375 45.921875 \r\nQ 44.09375 48.828125 44.09375 54.296875 \r\nQ 44.09375 59.90625 40.109375 62.90625 \r\nQ 36.140625 65.921875 28.71875 65.921875 \r\nQ 24.65625 65.921875 20.015625 65.03125 \r\nQ 15.375 64.15625 9.8125 62.3125 \r\nL 9.8125 71.09375 \r\nQ 15.4375 72.65625 20.34375 73.4375 \r\nQ 25.25 74.21875 29.59375 74.21875 \r\nQ 40.828125 74.21875 47.359375 69.109375 \r\nQ 53.90625 64.015625 53.90625 55.328125 \r\nQ 53.90625 49.265625 50.4375 45.09375 \r\nQ 46.96875 40.921875 40.578125 39.3125 \r\nz\r\n\" id=\"DejaVuSans-51\"/>\r\n       </defs>\r\n       <use xlink:href=\"#DejaVuSans-49\"/>\r\n       <use x=\"63.623047\" xlink:href=\"#DejaVuSans-51\"/>\r\n       <use x=\"127.246094\" xlink:href=\"#DejaVuSans-48\"/>\r\n       <use x=\"190.869141\" xlink:href=\"#DejaVuSans-48\"/>\r\n      </g>\r\n     </g>\r\n    </g>\r\n    <g id=\"ytick_4\">\r\n     <g id=\"line2d_13\">\r\n      <g>\r\n       <use style=\"stroke:#000000;stroke-width:0.8;\" x=\"58.167188\" xlink:href=\"#ma19a268e41\" y=\"93.911903\"/>\r\n      </g>\r\n     </g>\r\n     <g id=\"text_14\">\r\n      <!-- 1350 -->\r\n      <g transform=\"translate(25.717188 97.711122)scale(0.1 -0.1)\">\r\n       <use xlink:href=\"#DejaVuSans-49\"/>\r\n       <use x=\"63.623047\" xlink:href=\"#DejaVuSans-51\"/>\r\n       <use x=\"127.246094\" xlink:href=\"#DejaVuSans-53\"/>\r\n       <use x=\"190.869141\" xlink:href=\"#DejaVuSans-48\"/>\r\n      </g>\r\n     </g>\r\n    </g>\r\n    <g id=\"ytick_5\">\r\n     <g id=\"line2d_14\">\r\n      <g>\r\n       <use style=\"stroke:#000000;stroke-width:0.8;\" x=\"58.167188\" xlink:href=\"#ma19a268e41\" y=\"53.897181\"/>\r\n      </g>\r\n     </g>\r\n     <g id=\"text_15\">\r\n      <!-- 1400 -->\r\n      <g transform=\"translate(25.717188 57.696399)scale(0.1 -0.1)\">\r\n       <defs>\r\n        <path d=\"M 37.796875 64.3125 \r\nL 12.890625 25.390625 \r\nL 37.796875 25.390625 \r\nz\r\nM 35.203125 72.90625 \r\nL 47.609375 72.90625 \r\nL 47.609375 25.390625 \r\nL 58.015625 25.390625 \r\nL 58.015625 17.1875 \r\nL 47.609375 17.1875 \r\nL 47.609375 0 \r\nL 37.796875 0 \r\nL 37.796875 17.1875 \r\nL 4.890625 17.1875 \r\nL 4.890625 26.703125 \r\nz\r\n\" id=\"DejaVuSans-52\"/>\r\n       </defs>\r\n       <use xlink:href=\"#DejaVuSans-49\"/>\r\n       <use x=\"63.623047\" xlink:href=\"#DejaVuSans-52\"/>\r\n       <use x=\"127.246094\" xlink:href=\"#DejaVuSans-48\"/>\r\n       <use x=\"190.869141\" xlink:href=\"#DejaVuSans-48\"/>\r\n      </g>\r\n     </g>\r\n    </g>\r\n    <g id=\"ytick_6\">\r\n     <g id=\"line2d_15\">\r\n      <g>\r\n       <use style=\"stroke:#000000;stroke-width:0.8;\" x=\"58.167188\" xlink:href=\"#ma19a268e41\" y=\"13.882459\"/>\r\n      </g>\r\n     </g>\r\n     <g id=\"text_16\">\r\n      <!-- 1450 -->\r\n      <g transform=\"translate(25.717188 17.681677)scale(0.1 -0.1)\">\r\n       <use xlink:href=\"#DejaVuSans-49\"/>\r\n       <use x=\"63.623047\" xlink:href=\"#DejaVuSans-52\"/>\r\n       <use x=\"127.246094\" xlink:href=\"#DejaVuSans-53\"/>\r\n       <use x=\"190.869141\" xlink:href=\"#DejaVuSans-48\"/>\r\n      </g>\r\n     </g>\r\n    </g>\r\n    <g id=\"text_17\">\r\n     <!-- makespan -->\r\n     <g transform=\"translate(18.597656 154.525078)rotate(-90)scale(0.15 -0.15)\">\r\n      <defs>\r\n       <path d=\"M 52 44.1875 \r\nQ 55.375 50.25 60.0625 53.125 \r\nQ 64.75 56 71.09375 56 \r\nQ 79.640625 56 84.28125 50.015625 \r\nQ 88.921875 44.046875 88.921875 33.015625 \r\nL 88.921875 0 \r\nL 79.890625 0 \r\nL 79.890625 32.71875 \r\nQ 79.890625 40.578125 77.09375 44.375 \r\nQ 74.3125 48.1875 68.609375 48.1875 \r\nQ 61.625 48.1875 57.5625 43.546875 \r\nQ 53.515625 38.921875 53.515625 30.90625 \r\nL 53.515625 0 \r\nL 44.484375 0 \r\nL 44.484375 32.71875 \r\nQ 44.484375 40.625 41.703125 44.40625 \r\nQ 38.921875 48.1875 33.109375 48.1875 \r\nQ 26.21875 48.1875 22.15625 43.53125 \r\nQ 18.109375 38.875 18.109375 30.90625 \r\nL 18.109375 0 \r\nL 9.078125 0 \r\nL 9.078125 54.6875 \r\nL 18.109375 54.6875 \r\nL 18.109375 46.1875 \r\nQ 21.1875 51.21875 25.484375 53.609375 \r\nQ 29.78125 56 35.6875 56 \r\nQ 41.65625 56 45.828125 52.96875 \r\nQ 50 49.953125 52 44.1875 \r\nz\r\n\" id=\"DejaVuSans-109\"/>\r\n       <path d=\"M 9.078125 75.984375 \r\nL 18.109375 75.984375 \r\nL 18.109375 31.109375 \r\nL 44.921875 54.6875 \r\nL 56.390625 54.6875 \r\nL 27.390625 29.109375 \r\nL 57.625 0 \r\nL 45.90625 0 \r\nL 18.109375 26.703125 \r\nL 18.109375 0 \r\nL 9.078125 0 \r\nz\r\n\" id=\"DejaVuSans-107\"/>\r\n       <path d=\"M 44.28125 53.078125 \r\nL 44.28125 44.578125 \r\nQ 40.484375 46.53125 36.375 47.5 \r\nQ 32.28125 48.484375 27.875 48.484375 \r\nQ 21.1875 48.484375 17.84375 46.4375 \r\nQ 14.5 44.390625 14.5 40.28125 \r\nQ 14.5 37.15625 16.890625 35.375 \r\nQ 19.28125 33.59375 26.515625 31.984375 \r\nL 29.59375 31.296875 \r\nQ 39.15625 29.25 43.1875 25.515625 \r\nQ 47.21875 21.78125 47.21875 15.09375 \r\nQ 47.21875 7.46875 41.1875 3.015625 \r\nQ 35.15625 -1.421875 24.609375 -1.421875 \r\nQ 20.21875 -1.421875 15.453125 -0.5625 \r\nQ 10.6875 0.296875 5.421875 2 \r\nL 5.421875 11.28125 \r\nQ 10.40625 8.6875 15.234375 7.390625 \r\nQ 20.0625 6.109375 24.8125 6.109375 \r\nQ 31.15625 6.109375 34.5625 8.28125 \r\nQ 37.984375 10.453125 37.984375 14.40625 \r\nQ 37.984375 18.0625 35.515625 20.015625 \r\nQ 33.0625 21.96875 24.703125 23.78125 \r\nL 21.578125 24.515625 \r\nQ 13.234375 26.265625 9.515625 29.90625 \r\nQ 5.8125 33.546875 5.8125 39.890625 \r\nQ 5.8125 47.609375 11.28125 51.796875 \r\nQ 16.75 56 26.8125 56 \r\nQ 31.78125 56 36.171875 55.265625 \r\nQ 40.578125 54.546875 44.28125 53.078125 \r\nz\r\n\" id=\"DejaVuSans-115\"/>\r\n       <path d=\"M 18.109375 8.203125 \r\nL 18.109375 -20.796875 \r\nL 9.078125 -20.796875 \r\nL 9.078125 54.6875 \r\nL 18.109375 54.6875 \r\nL 18.109375 46.390625 \r\nQ 20.953125 51.265625 25.265625 53.625 \r\nQ 29.59375 56 35.59375 56 \r\nQ 45.5625 56 51.78125 48.09375 \r\nQ 58.015625 40.1875 58.015625 27.296875 \r\nQ 58.015625 14.40625 51.78125 6.484375 \r\nQ 45.5625 -1.421875 35.59375 -1.421875 \r\nQ 29.59375 -1.421875 25.265625 0.953125 \r\nQ 20.953125 3.328125 18.109375 8.203125 \r\nz\r\nM 48.6875 27.296875 \r\nQ 48.6875 37.203125 44.609375 42.84375 \r\nQ 40.53125 48.484375 33.40625 48.484375 \r\nQ 26.265625 48.484375 22.1875 42.84375 \r\nQ 18.109375 37.203125 18.109375 27.296875 \r\nQ 18.109375 17.390625 22.1875 11.75 \r\nQ 26.265625 6.109375 33.40625 6.109375 \r\nQ 40.53125 6.109375 44.609375 11.75 \r\nQ 48.6875 17.390625 48.6875 27.296875 \r\nz\r\n\" id=\"DejaVuSans-112\"/>\r\n      </defs>\r\n      <use xlink:href=\"#DejaVuSans-109\"/>\r\n      <use x=\"97.412109\" xlink:href=\"#DejaVuSans-97\"/>\r\n      <use x=\"158.691406\" xlink:href=\"#DejaVuSans-107\"/>\r\n      <use x=\"212.976562\" xlink:href=\"#DejaVuSans-101\"/>\r\n      <use x=\"274.5\" xlink:href=\"#DejaVuSans-115\"/>\r\n      <use x=\"326.599609\" xlink:href=\"#DejaVuSans-112\"/>\r\n      <use x=\"390.076172\" xlink:href=\"#DejaVuSans-97\"/>\r\n      <use x=\"451.355469\" xlink:href=\"#DejaVuSans-110\"/>\r\n     </g>\r\n    </g>\r\n   </g>\r\n   <g id=\"line2d_16\">\r\n    <path clip-path=\"url(#pc6ae3da1a2)\" d=\"M 73.385369 17.083636 \r\nL 73.537627 40.292175 \r\nL 74.146659 40.292175 \r\nL 74.298917 72.303953 \r\nL 75.821496 72.303953 \r\nL 75.973754 94.712197 \r\nL 77.648592 94.712197 \r\nL 77.80085 124.323092 \r\nL 79.018913 124.323092 \r\nL 79.171171 140.32898 \r\nL 79.627945 140.32898 \r\nL 79.780203 168.339286 \r\nL 84.652457 168.339286 \r\nL 84.804715 195.549297 \r\nL 97.442125 195.549297 \r\nL 97.594383 199.550769 \r\nL 97.898899 199.550769 \r\nL 98.051157 213.956069 \r\nL 109.318245 213.956069 \r\nL 109.470503 214.756364 \r\nL 377.749006 214.756364 \r\nL 377.749006 214.756364 \r\n\" style=\"fill:none;stroke:#0000ff;stroke-linecap:square;stroke-width:1.5;\"/>\r\n   </g>\r\n   <g id=\"patch_3\">\r\n    <path d=\"M 58.167188 224.64 \r\nL 58.167188 7.2 \r\n\" style=\"fill:none;stroke:#000000;stroke-linecap:square;stroke-linejoin:miter;stroke-width:0.8;\"/>\r\n   </g>\r\n   <g id=\"patch_4\">\r\n    <path d=\"M 392.967188 224.64 \r\nL 392.967188 7.2 \r\n\" style=\"fill:none;stroke:#000000;stroke-linecap:square;stroke-linejoin:miter;stroke-width:0.8;\"/>\r\n   </g>\r\n   <g id=\"patch_5\">\r\n    <path d=\"M 58.167188 224.64 \r\nL 392.967188 224.64 \r\n\" style=\"fill:none;stroke:#000000;stroke-linecap:square;stroke-linejoin:miter;stroke-width:0.8;\"/>\r\n   </g>\r\n   <g id=\"patch_6\">\r\n    <path d=\"M 58.167188 7.2 \r\nL 392.967188 7.2 \r\n\" style=\"fill:none;stroke:#000000;stroke-linecap:square;stroke-linejoin:miter;stroke-width:0.8;\"/>\r\n   </g>\r\n  </g>\r\n </g>\r\n <defs>\r\n  <clipPath id=\"pc6ae3da1a2\">\r\n   <rect height=\"217.44\" width=\"334.8\" x=\"58.167188\" y=\"7.2\"/>\r\n  </clipPath>\r\n </defs>\r\n</svg>\r\n",
      "image/png": "[encoded data removed]"
     },
     "metadata": {
      "needs_background": "light"
     }
    }
   ],
   "source": [
    "# -*- coding: utf-8 -*-\n",
    "\"\"\"\n",
    "Created on Fri Jul 13 17:24:51 2018\n",
    "\n",
    "Author: cheng-man wu\n",
    "LinkedIn: www.linkedin.com/in/chengmanwu\n",
    "Github: https://github.com/wurmen\n",
    "\n",
    "\"\"\"\n",
    "\n",
    "'''==========Solving job shop scheduling problem by gentic algorithm in python======='''\n",
    "# importing required modules\n",
    "import pandas as pd\n",
    "import numpy as np\n",
    "import time\n",
    "import copy\n",
    "\n",
    "''' ================= initialization setting ======================'''\n",
    "\n",
    "\n",
    "pt_tmp=pd.read_excel(\"JSP_dataset.xlsx\",sheet_name=\"Processing Time\",index_col =[0])\n",
    "ms_tmp=pd.read_excel(\"JSP_dataset.xlsx\",sheet_name=\"Machines Sequence\",index_col =[0])\n",
    "\n",
    "dfshape=pt_tmp.shape\n",
    "num_mc=dfshape[1] # number of machines\n",
    "num_job=dfshape[0] # number of jobs\n",
    "num_gene=num_mc*num_job # number of genes in a chromosome\n",
    "\n",
    "pt=[list(map(int, pt_tmp.iloc[i])) for i in range(num_job)]\n",
    "ms=[list(map(int,ms_tmp.iloc[i])) for i in range(num_job)]\n",
    "\n",
    "\n",
    "\n",
    "\n",
    "# raw_input is used in python 2\n",
    "population_size=int(input('Please input the size of population: ') or 30) # default value is 30\n",
    "crossover_rate=float(input('Please input the size of Crossover Rate: ') or 0.8) # default value is 0.8\n",
    "mutation_rate=float(input('Please input the size of Mutation Rate: ') or 0.2) # default value is 0.2\n",
    "mutation_selection_rate=float(input('Please input the mutation selection rate: ') or 0.2)\n",
    "num_mutation_jobs=round(num_gene*mutation_selection_rate)\n",
    "num_iteration=int(input('Please input number of iteration: ') or 2000) # default value is 2000\n",
    "    \n",
    "start_time = time.time()\n",
    "\n",
    "'''==================== main code ==============================='''\n",
    "'''----- generate initial population -----'''\n",
    "Tbest=999999999999999\n",
    "best_list,best_obj=[],[]\n",
    "population_list=[]\n",
    "makespan_record=[]\n",
    "for i in range(population_size):\n",
    "    nxm_random_num=list(np.random.permutation(num_gene)) # generate a random permutation of 0 to num_job*num_mc-1\n",
    "    population_list.append(nxm_random_num) # add to the population_list\n",
    "    for j in range(num_gene):\n",
    "        population_list[i][j]=population_list[i][j]%num_job # convert to job number format, every job appears m times\n",
    "        \n",
    "for n in range(num_iteration):\n",
    "    Tbest_now=99999999999           \n",
    "   \n",
    "    '''-------- two point crossover --------'''\n",
    "    parent_list=copy.deepcopy(population_list)\n",
    "    offspring_list=copy.deepcopy(population_list)\n",
    "    S=list(np.random.permutation(population_size)) # generate a random sequence to select the parent chromosome to crossover\n",
    "    \n",
    "    for m in range(int(population_size/2)):\n",
    "        crossover_prob=np.random.rand()\n",
    "        if crossover_rate>=crossover_prob:\n",
    "            parent_1= population_list[S[2*m]][:]\n",
    "            parent_2= population_list[S[2*m+1]][:]\n",
    "            child_1=parent_1[:]\n",
    "            child_2=parent_2[:]\n",
    "            cutpoint=list(np.random.choice(num_gene, 2, replace=False))\n",
    "            cutpoint.sort()\n",
    "        \n",
    "            child_1[cutpoint[0]:cutpoint[1]]=parent_2[cutpoint[0]:cutpoint[1]]\n",
    "            child_2[cutpoint[0]:cutpoint[1]]=parent_1[cutpoint[0]:cutpoint[1]]\n",
    "            offspring_list[S[2*m]]=child_1[:]\n",
    "            offspring_list[S[2*m+1]]=child_2[:]\n",
    "        \n",
    "    \n",
    "    '''----------repairment-------------'''\n",
    "    for m in range(population_size):\n",
    "        job_count={}\n",
    "        larger,less=[],[] # 'larger' record jobs appear in the chromosome more than m times, and 'less' records less than m times.\n",
    "        for i in range(num_job):\n",
    "            if i in offspring_list[m]:\n",
    "                count=offspring_list[m].count(i)\n",
    "                pos=offspring_list[m].index(i)\n",
    "                job_count[i]=[count,pos] # store the above two values to the job_count dictionary\n",
    "            else:\n",
    "                count=0\n",
    "                job_count[i]=[count,0]\n",
    "            if count>num_mc:\n",
    "                larger.append(i)\n",
    "            elif count<num_mc:\n",
    "                less.append(i)\n",
    "                \n",
    "        for k in range(len(larger)):\n",
    "            chg_job=larger[k]\n",
    "            while job_count[chg_job][0]>num_mc:\n",
    "                for d in range(len(less)):\n",
    "                    if job_count[less[d]][0]<num_mc:                    \n",
    "                        offspring_list[m][job_count[chg_job][1]]=less[d]\n",
    "                        job_count[chg_job][1]=offspring_list[m].index(chg_job)\n",
    "                        job_count[chg_job][0]=job_count[chg_job][0]-1\n",
    "                        job_count[less[d]][0]=job_count[less[d]][0]+1                    \n",
    "                    if job_count[chg_job][0]==num_mc:\n",
    "                        break     \n",
    "    \n",
    "    '''--------mutatuon--------'''   \n",
    "    for m in range(len(offspring_list)):\n",
    "        mutation_prob=np.random.rand()\n",
    "        if mutation_rate >= mutation_prob:\n",
    "            m_chg=list(np.random.choice(num_gene, num_mutation_jobs, replace=False)) # chooses the position to mutation\n",
    "            t_value_last=offspring_list[m][m_chg[0]] # save the value which is on the first mutation position\n",
    "            for i in range(num_mutation_jobs-1):\n",
    "                offspring_list[m][m_chg[i]]=offspring_list[m][m_chg[i+1]] # displacement\n",
    "            \n",
    "            offspring_list[m][m_chg[num_mutation_jobs-1]]=t_value_last # move the value of the first mutation position to the last mutation position\n",
    "  \n",
    "    \n",
    "    '''--------fitness value(calculate makespan)-------------'''\n",
    "    total_chromosome=copy.deepcopy(parent_list)+copy.deepcopy(offspring_list) # parent and offspring chromosomes combination\n",
    "    chrom_fitness,chrom_fit=[],[]\n",
    "    total_fitness=0\n",
    "    for m in range(population_size*2):\n",
    "        j_keys=[j for j in range(num_job)]\n",
    "        key_count={key:0 for key in j_keys}\n",
    "        j_count={key:0 for key in j_keys}\n",
    "        m_keys=[j+1 for j in range(num_mc)]\n",
    "        m_count={key:0 for key in m_keys}\n",
    "        \n",
    "        for i in total_chromosome[m]:\n",
    "            gen_t=int(pt[i][key_count[i]])\n",
    "            gen_m=int(ms[i][key_count[i]])\n",
    "            j_count[i]=j_count[i]+gen_t\n",
    "            m_count[gen_m]=m_count[gen_m]+gen_t\n",
    "            \n",
    "            if m_count[gen_m]<j_count[i]:\n",
    "                m_count[gen_m]=j_count[i]\n",
    "            elif m_count[gen_m]>j_count[i]:\n",
    "                j_count[i]=m_count[gen_m]\n",
    "            \n",
    "            key_count[i]=key_count[i]+1\n",
    "    \n",
    "        makespan=max(j_count.values())\n",
    "        chrom_fitness.append(1/makespan)\n",
    "        chrom_fit.append(makespan)\n",
    "        total_fitness=total_fitness+chrom_fitness[m]\n",
    "\n",
    "    \n",
    "    '''----------selection(roulette wheel approach)----------'''\n",
    "    pk,qk=[],[]\n",
    "    \n",
    "    for i in range(population_size*2):\n",
    "        pk.append(chrom_fitness[i]/total_fitness)\n",
    "    for i in range(population_size*2):\n",
    "        cumulative=0\n",
    "        for j in range(0,i+1):\n",
    "            cumulative=cumulative+pk[j]\n",
    "        qk.append(cumulative)\n",
    "    \n",
    "    selection_rand=[np.random.rand() for i in range(population_size)]\n",
    "    \n",
    "    for i in range(population_size):\n",
    "        if selection_rand[i]<=qk[0]:\n",
    "            population_list[i]=copy.deepcopy(total_chromosome[0])\n",
    "        else:\n",
    "            for j in range(0,population_size*2-1):\n",
    "                if selection_rand[i]>qk[j] and selection_rand[i]<=qk[j+1]:\n",
    "                    population_list[i]=copy.deepcopy(total_chromosome[j+1])\n",
    "                    break\n",
    "    '''----------comparison----------'''\n",
    "    for i in range(population_size*2):\n",
    "        if chrom_fit[i]<Tbest_now:\n",
    "            Tbest_now=chrom_fit[i]\n",
    "            sequence_now=copy.deepcopy(total_chromosome[i])\n",
    "    if Tbest_now<=Tbest:\n",
    "        Tbest=Tbest_now\n",
    "        sequence_best=copy.deepcopy(sequence_now)\n",
    "        \n",
    "    makespan_record.append(Tbest)\n",
    "'''----------result----------'''\n",
    "print(\"optimal sequence\",sequence_best)\n",
    "print(\"optimal value:%f\"%Tbest)\n",
    "print('the elapsed time:%s'% (time.time() - start_time))\n",
    "\n",
    "import matplotlib.pyplot as plt\n",
    "%matplotlib inline\n",
    "plt.plot([i for i in range(len(makespan_record))],makespan_record,'b')\n",
    "plt.ylabel('makespan',fontsize=15)\n",
    "plt.xlabel('generation',fontsize=15)\n",
    "plt.show()\n"
   ]
  },
  {
   "cell_type": "code",
   "execution_count": 15,
   "metadata": {
    "tags": []
   },
   "outputs": [
    {
     "output_type": "stream",
     "name": "stdout",
     "text": "0:01:16\n0:01:16\n0:01:16\n0:01:16\n0:01:16\n0:01:16\n0:01:16\n0:01:16\n0:01:16\n0:01:16\n0:01:16\n0:01:16\n0:01:16\n0:01:16\n0:01:16\n0:01:16\n0:01:16\n0:01:16\n0:01:16\n0:01:16\n0:01:16\n0:01:16\n0:01:16\n0:01:16\n0:01:16\n0:01:16\n0:01:16\n0:01:16\n0:01:16\n0:01:16\n0:01:16\n0:01:16\n0:01:16\n0:01:16\n0:01:16\n0:01:16\n0:01:16\n0:01:16\n0:01:16\n0:01:16\n0:01:16\n0:01:16\n0:01:16\n0:01:16\n0:01:16\n0:01:16\n0:01:16\n0:01:16\n0:01:16\n0:01:16\n0:01:16\n0:01:16\n0:01:16\n0:01:16\n0:01:16\n0:01:16\n0:01:16\n0:01:16\n0:01:16\n0:01:16\n0:01:16\n0:01:16\n0:01:16\n0:01:16\n0:01:16\n0:01:16\n0:01:16\n0:01:16\n0:01:16\n0:01:16\n0:01:16\n0:01:16\n0:01:16\n0:01:16\n0:01:16\n0:01:16\n0:01:16\n0:01:16\n0:01:16\n0:01:16\n0:01:16\n0:01:16\n0:01:16\n0:01:16\n0:01:16\n0:01:16\n0:01:16\n0:01:16\n0:01:16\n0:01:16\n0:01:16\n0:01:16\n0:01:16\n0:01:16\n0:01:16\n0:01:16\n0:01:16\n0:01:16\n0:01:16\n0:01:16\n"
    }
   ],
   "source": [
    "'''--------plot gantt chart-------'''\n",
    "import pandas as pd\n",
    "import chart_studio.plotly as py            ## Revise\n",
    "import chart_studio                         ## Add\n",
    "import plotly.figure_factory as ff\n",
    "import datetime\n",
    "\n",
    "chart_studio.tools.set_credentials_file(username='LCJ', api_key='MXyqUZQn59PkwA2IfY2W')   ## Add\n",
    "\n",
    "m_keys=[j+1 for j in range(num_mc)]\n",
    "#print(m_keys) #[1, 2, 3, 4, 5, 6, 7, 8, 9, 10] 機器數\n",
    "j_keys=[j for j in range(num_job)]\n",
    "#print(j_keys) #[0, 1, 2, 3, 4, 5, 6, 7, 8, 9] 工作數\n",
    "\n",
    "\n",
    "key_count={key:0 for key in j_keys}\n",
    "#print(key_count) #{0: 0, 1: 0, 2: 0, 3: 0, 4: 0, 5: 0, 6: 0, 7: 0, 8: 0, 9: 0}\n",
    "j_count={key:0 for key in j_keys}\n",
    "#print(j_count) #{0: 0, 1: 0, 2: 0, 3: 0, 4: 0, 5: 0, 6: 0, 7: 0, 8: 0, 9: 0}\n",
    "m_count={key:0 for key in m_keys}\n",
    "#print(m_count) #{1: 0, 2: 0, 3: 0, 4: 0, 5: 0, 6: 0, 7: 0, 8: 0, 9: 0, 10: 0}\n",
    "\n",
    "\n",
    "for i in sequence_best:\n",
    "    gen_t=int(pt[i][key_count[i]])\n",
    "    gen_m=int(ms[i][key_count[i]])\n",
    "    j_count[i]=j_count[i]+gen_t\n",
    "    m_count[gen_m]=m_count[gen_m]+gen_t\n",
    "    \n",
    "    if m_count[gen_m]<j_count[i]:\n",
    "        m_count[gen_m]=j_count[i]\n",
    "    elif m_count[gen_m]>j_count[i]:\n",
    "        j_count[i]=m_count[gen_m]\n",
    "\n",
    "    #print(pt[i][key_count[i]])  # 46、76、81、37...\n",
    "    print(datetime.timedelta(seconds=76))\n",
    "    start_time=str(datetime.timedelta(seconds=j_count[i]-pt[i][key_count[i]])) # convert seconds to hours, minutes and seconds\n",
    "    #76>>0:01:16.... 用秒來表示\n",
    "    end_time=str(datetime.timedelta(seconds=j_count[i]))\n",
    "        \n",
    "    j_record[(i,gen_m)]=[start_time,end_time]\n",
    "    \n",
    "    key_count[i]=key_count[i]+1\n",
    "\n",
    "#print(j_record)  #{(6, 2): ['0:00:00', '0:00:46'], (8, 1): ['0:00:00', '0:01:16'],.......\n",
    "#print(key_count)  #{0: 10, 1: 10, 2: 10, 3: 10, 4: 10, 5: 10, 6: 10, 7: 10, 8: 10, 9: 10}\n",
    "\n",
    "df=[]\n",
    "for m in m_keys:\n",
    "    for j in j_keys:\n",
    "        df.append(dict(Task='Machine %s'%(m), Start='2018-07-14 %s'%(str(j_record[(j,m)][0])), Finish='2018-07-14 %s'%(str(j_record[(j,m)][1])),Resource='Job %s'%(j+1)))\n",
    "# {'Task': 'Machine 1', 'Start': '2018-07-14 0:06:53', 'Finish': '2018-07-14 0:07:22', 'Resource': 'Job 1'}   \n",
    "\n",
    "fig = ff.create_gantt(df, index_col='Resource', show_colorbar=True, group_tasks=True, showgrid_x=True, title='Job shop Schedule')\n",
    "##py.iplot(fig, filename='GA_job_shop_scheduling', world_readable=True) #先註解掉\n",
    "#print(df)\n",
    "\n",
    "\n",
    "\n"
   ]
  },
  {
   "cell_type": "code",
   "execution_count": 32,
   "metadata": {},
   "outputs": [
    {
     "output_type": "display_data",
     "data": {
      "application/vnd.plotly.v1+json": {
       "config": {
        "plotlyServerURL": "https://plotly.com"
       },
       "data": [
        {
         "alignmentgroup": "True",
         "base": [
          "2018-07-14 0:00:00"
         ],
         "hovertemplate": "Task=Job 4<br>Start=%{base}<br>Finish=%{x}<br>Resource=%{y}<extra></extra>",
         "legendgroup": "Job 4",
         "marker": {
          "color": "#636efa"
         },
         "name": "Job 4",
         "offsetgroup": "Job 4",
         "orientation": "h",
         "showlegend": true,
         "textposition": "auto",
         "type": "bar",
         "x": [
          78000
         ],
         "xaxis": "x",
         "y": [
          "Machine 1"
         ],
         "yaxis": "y"
        },
        {
         "alignmentgroup": "True",
         "base": [
          "2018-07-14 0:01:18"
         ],
         "hovertemplate": "Task=Job 8<br>Start=%{base}<br>Finish=%{x}<br>Resource=%{y}<extra></extra>",
         "legendgroup": "Job 8",
         "marker": {
          "color": "#EF553B"
         },
         "name": "Job 8",
         "offsetgroup": "Job 8",
         "orientation": "h",
         "showlegend": true,
         "textposition": "auto",
         "type": "bar",
         "x": [
          11000
         ],
         "xaxis": "x",
         "y": [
          "Machine 1"
         ],
         "yaxis": "y"
        },
        {
         "alignmentgroup": "True",
         "base": [
          "2018-07-14 0:01:29"
         ],
         "hovertemplate": "Task=Job 1<br>Start=%{base}<br>Finish=%{x}<br>Resource=%{y}<extra></extra>",
         "legendgroup": "Job 1",
         "marker": {
          "color": "#00cc96"
         },
         "name": "Job 1",
         "offsetgroup": "Job 1",
         "orientation": "h",
         "showlegend": true,
         "textposition": "auto",
         "type": "bar",
         "x": [
          80000
         ],
         "xaxis": "x",
         "y": [
          "Machine 1"
         ],
         "yaxis": "y"
        },
        {
         "alignmentgroup": "True",
         "base": [
          "2018-07-14 0:02:49"
         ],
         "hovertemplate": "Task=Job 6<br>Start=%{base}<br>Finish=%{x}<br>Resource=%{y}<extra></extra>",
         "legendgroup": "Job 6",
         "marker": {
          "color": "#ab63fa"
         },
         "name": "Job 6",
         "offsetgroup": "Job 6",
         "orientation": "h",
         "showlegend": true,
         "textposition": "auto",
         "type": "bar",
         "x": [
          12000
         ],
         "xaxis": "x",
         "y": [
          "Machine 1"
         ],
         "yaxis": "y"
        },
        {
         "alignmentgroup": "True",
         "base": [
          "2018-07-14 0:00:00"
         ],
         "hovertemplate": "Task=Job 7<br>Start=%{base}<br>Finish=%{x}<br>Resource=%{y}<extra></extra>",
         "legendgroup": "Job 7",
         "marker": {
          "color": "#FFA15A"
         },
         "name": "Job 7",
         "offsetgroup": "Job 7",
         "orientation": "h",
         "showlegend": true,
         "textposition": "auto",
         "type": "bar",
         "x": [
          99000
         ],
         "xaxis": "x",
         "y": [
          "Machine 2"
         ],
         "yaxis": "y"
        },
        {
         "alignmentgroup": "True",
         "base": [
          "2018-07-14 0:01:39"
         ],
         "hovertemplate": "Task=Job 2<br>Start=%{base}<br>Finish=%{x}<br>Resource=%{y}<extra></extra>",
         "legendgroup": "Job 2",
         "marker": {
          "color": "#19d3f3"
         },
         "name": "Job 2",
         "offsetgroup": "Job 2",
         "orientation": "h",
         "showlegend": true,
         "textposition": "auto",
         "type": "bar",
         "x": [
          86000
         ],
         "xaxis": "x",
         "y": [
          "Machine 2"
         ],
         "yaxis": "y"
        },
        {
         "alignmentgroup": "True",
         "base": [
          "2018-07-14 0:03:05"
         ],
         "hovertemplate": "Task=Job 5<br>Start=%{base}<br>Finish=%{x}<br>Resource=%{y}<extra></extra>",
         "legendgroup": "Job 5",
         "marker": {
          "color": "#FF6692"
         },
         "name": "Job 5",
         "offsetgroup": "Job 5",
         "orientation": "h",
         "showlegend": true,
         "textposition": "auto",
         "type": "bar",
         "x": [
          78000
         ],
         "xaxis": "x",
         "y": [
          "Machine 2"
         ],
         "yaxis": "y"
        },
        {
         "alignmentgroup": "True",
         "base": [
          "2018-07-14 0:00:00"
         ],
         "hovertemplate": "Task=Job 3<br>Start=%{base}<br>Finish=%{x}<br>Resource=%{y}<extra></extra>",
         "legendgroup": "Job 3",
         "marker": {
          "color": "#B6E880"
         },
         "name": "Job 3",
         "offsetgroup": "Job 3",
         "orientation": "h",
         "showlegend": true,
         "textposition": "auto",
         "type": "bar",
         "x": [
          96000
         ],
         "xaxis": "x",
         "y": [
          "Machine 3"
         ],
         "yaxis": "y"
        },
        {
         "alignmentgroup": "True",
         "base": [
          "2018-07-14 0:01:36"
         ],
         "hovertemplate": "Task=Job 9<br>Start=%{base}<br>Finish=%{x}<br>Resource=%{y}<extra></extra>",
         "legendgroup": "Job 9",
         "marker": {
          "color": "#FF97FF"
         },
         "name": "Job 9",
         "offsetgroup": "Job 9",
         "orientation": "h",
         "showlegend": true,
         "textposition": "auto",
         "type": "bar",
         "x": [
          45000
         ],
         "xaxis": "x",
         "y": [
          "Machine 3"
         ],
         "yaxis": "y"
        },
        {
         "alignmentgroup": "True",
         "base": [
          "2018-07-14 0:02:21"
         ],
         "hovertemplate": "Task=Job 10<br>Start=%{base}<br>Finish=%{x}<br>Resource=%{y}<extra></extra>",
         "legendgroup": "Job 10",
         "marker": {
          "color": "#FECB52"
         },
         "name": "Job 10",
         "offsetgroup": "Job 10",
         "orientation": "h",
         "showlegend": true,
         "textposition": "auto",
         "type": "bar",
         "x": [
          21000
         ],
         "xaxis": "x",
         "y": [
          "Machine 3"
         ],
         "yaxis": "y"
        }
       ],
       "layout": {
        "barmode": "overlay",
        "legend": {
         "title": {
          "text": "Task"
         },
         "tracegroupgap": 0
        },
        "margin": {
         "t": 60
        },
        "template": {
         "data": {
          "bar": [
           {
            "error_x": {
             "color": "#2a3f5f"
            },
            "error_y": {
             "color": "#2a3f5f"
            },
            "marker": {
             "line": {
              "color": "#E5ECF6",
              "width": 0.5
             }
            },
            "type": "bar"
           }
          ],
          "barpolar": [
           {
            "marker": {
             "line": {
              "color": "#E5ECF6",
              "width": 0.5
             }
            },
            "type": "barpolar"
           }
          ],
          "carpet": [
           {
            "aaxis": {
             "endlinecolor": "#2a3f5f",
             "gridcolor": "white",
             "linecolor": "white",
             "minorgridcolor": "white",
             "startlinecolor": "#2a3f5f"
            },
            "baxis": {
             "endlinecolor": "#2a3f5f",
             "gridcolor": "white",
             "linecolor": "white",
             "minorgridcolor": "white",
             "startlinecolor": "#2a3f5f"
            },
            "type": "carpet"
           }
          ],
          "choropleth": [
           {
            "colorbar": {
             "outlinewidth": 0,
             "ticks": ""
            },
            "type": "choropleth"
           }
          ],
          "contour": [
           {
            "colorbar": {
             "outlinewidth": 0,
             "ticks": ""
            },
            "colorscale": [
             [
              0,
              "#0d0887"
             ],
             [
              0.1111111111111111,
              "#46039f"
             ],
             [
              0.2222222222222222,
              "#7201a8"
             ],
             [
              0.3333333333333333,
              "#9c179e"
             ],
             [
              0.4444444444444444,
              "#bd3786"
             ],
             [
              0.5555555555555556,
              "#d8576b"
             ],
             [
              0.6666666666666666,
              "#ed7953"
             ],
             [
              0.7777777777777778,
              "#fb9f3a"
             ],
             [
              0.8888888888888888,
              "#fdca26"
             ],
             [
              1,
              "#f0f921"
             ]
            ],
            "type": "contour"
           }
          ],
          "contourcarpet": [
           {
            "colorbar": {
             "outlinewidth": 0,
             "ticks": ""
            },
            "type": "contourcarpet"
           }
          ],
          "heatmap": [
           {
            "colorbar": {
             "outlinewidth": 0,
             "ticks": ""
            },
            "colorscale": [
             [
              0,
              "#0d0887"
             ],
             [
              0.1111111111111111,
              "#46039f"
             ],
             [
              0.2222222222222222,
              "#7201a8"
             ],
             [
              0.3333333333333333,
              "#9c179e"
             ],
             [
              0.4444444444444444,
              "#bd3786"
             ],
             [
              0.5555555555555556,
              "#d8576b"
             ],
             [
              0.6666666666666666,
              "#ed7953"
             ],
             [
              0.7777777777777778,
              "#fb9f3a"
             ],
             [
              0.8888888888888888,
              "#fdca26"
             ],
             [
              1,
              "#f0f921"
             ]
            ],
            "type": "heatmap"
           }
          ],
          "heatmapgl": [
           {
            "colorbar": {
             "outlinewidth": 0,
             "ticks": ""
            },
            "colorscale": [
             [
              0,
              "#0d0887"
             ],
             [
              0.1111111111111111,
              "#46039f"
             ],
             [
              0.2222222222222222,
              "#7201a8"
             ],
             [
              0.3333333333333333,
              "#9c179e"
             ],
             [
              0.4444444444444444,
              "#bd3786"
             ],
             [
              0.5555555555555556,
              "#d8576b"
             ],
             [
              0.6666666666666666,
              "#ed7953"
             ],
             [
              0.7777777777777778,
              "#fb9f3a"
             ],
             [
              0.8888888888888888,
              "#fdca26"
             ],
             [
              1,
              "#f0f921"
             ]
            ],
            "type": "heatmapgl"
           }
          ],
          "histogram": [
           {
            "marker": {
             "colorbar": {
              "outlinewidth": 0,
              "ticks": ""
             }
            },
            "type": "histogram"
           }
          ],
          "histogram2d": [
           {
            "colorbar": {
             "outlinewidth": 0,
             "ticks": ""
            },
            "colorscale": [
             [
              0,
              "#0d0887"
             ],
             [
              0.1111111111111111,
              "#46039f"
             ],
             [
              0.2222222222222222,
              "#7201a8"
             ],
             [
              0.3333333333333333,
              "#9c179e"
             ],
             [
              0.4444444444444444,
              "#bd3786"
             ],
             [
              0.5555555555555556,
              "#d8576b"
             ],
             [
              0.6666666666666666,
              "#ed7953"
             ],
             [
              0.7777777777777778,
              "#fb9f3a"
             ],
             [
              0.8888888888888888,
              "#fdca26"
             ],
             [
              1,
              "#f0f921"
             ]
            ],
            "type": "histogram2d"
           }
          ],
          "histogram2dcontour": [
           {
            "colorbar": {
             "outlinewidth": 0,
             "ticks": ""
            },
            "colorscale": [
             [
              0,
              "#0d0887"
             ],
             [
              0.1111111111111111,
              "#46039f"
             ],
             [
              0.2222222222222222,
              "#7201a8"
             ],
             [
              0.3333333333333333,
              "#9c179e"
             ],
             [
              0.4444444444444444,
              "#bd3786"
             ],
             [
              0.5555555555555556,
              "#d8576b"
             ],
             [
              0.6666666666666666,
              "#ed7953"
             ],
             [
              0.7777777777777778,
              "#fb9f3a"
             ],
             [
              0.8888888888888888,
              "#fdca26"
             ],
             [
              1,
              "#f0f921"
             ]
            ],
            "type": "histogram2dcontour"
           }
          ],
          "mesh3d": [
           {
            "colorbar": {
             "outlinewidth": 0,
             "ticks": ""
            },
            "type": "mesh3d"
           }
          ],
          "parcoords": [
           {
            "line": {
             "colorbar": {
              "outlinewidth": 0,
              "ticks": ""
             }
            },
            "type": "parcoords"
           }
          ],
          "pie": [
           {
            "automargin": true,
            "type": "pie"
           }
          ],
          "scatter": [
           {
            "marker": {
             "colorbar": {
              "outlinewidth": 0,
              "ticks": ""
             }
            },
            "type": "scatter"
           }
          ],
          "scatter3d": [
           {
            "line": {
             "colorbar": {
              "outlinewidth": 0,
              "ticks": ""
             }
            },
            "marker": {
             "colorbar": {
              "outlinewidth": 0,
              "ticks": ""
             }
            },
            "type": "scatter3d"
           }
          ],
          "scattercarpet": [
           {
            "marker": {
             "colorbar": {
              "outlinewidth": 0,
              "ticks": ""
             }
            },
            "type": "scattercarpet"
           }
          ],
          "scattergeo": [
           {
            "marker": {
             "colorbar": {
              "outlinewidth": 0,
              "ticks": ""
             }
            },
            "type": "scattergeo"
           }
          ],
          "scattergl": [
           {
            "marker": {
             "colorbar": {
              "outlinewidth": 0,
              "ticks": ""
             }
            },
            "type": "scattergl"
           }
          ],
          "scattermapbox": [
           {
            "marker": {
             "colorbar": {
              "outlinewidth": 0,
              "ticks": ""
             }
            },
            "type": "scattermapbox"
           }
          ],
          "scatterpolar": [
           {
            "marker": {
             "colorbar": {
              "outlinewidth": 0,
              "ticks": ""
             }
            },
            "type": "scatterpolar"
           }
          ],
          "scatterpolargl": [
           {
            "marker": {
             "colorbar": {
              "outlinewidth": 0,
              "ticks": ""
             }
            },
            "type": "scatterpolargl"
           }
          ],
          "scatterternary": [
           {
            "marker": {
             "colorbar": {
              "outlinewidth": 0,
              "ticks": ""
             }
            },
            "type": "scatterternary"
           }
          ],
          "surface": [
           {
            "colorbar": {
             "outlinewidth": 0,
             "ticks": ""
            },
            "colorscale": [
             [
              0,
              "#0d0887"
             ],
             [
              0.1111111111111111,
              "#46039f"
             ],
             [
              0.2222222222222222,
              "#7201a8"
             ],
             [
              0.3333333333333333,
              "#9c179e"
             ],
             [
              0.4444444444444444,
              "#bd3786"
             ],
             [
              0.5555555555555556,
              "#d8576b"
             ],
             [
              0.6666666666666666,
              "#ed7953"
             ],
             [
              0.7777777777777778,
              "#fb9f3a"
             ],
             [
              0.8888888888888888,
              "#fdca26"
             ],
             [
              1,
              "#f0f921"
             ]
            ],
            "type": "surface"
           }
          ],
          "table": [
           {
            "cells": {
             "fill": {
              "color": "#EBF0F8"
             },
             "line": {
              "color": "white"
             }
            },
            "header": {
             "fill": {
              "color": "#C8D4E3"
             },
             "line": {
              "color": "white"
             }
            },
            "type": "table"
           }
          ]
         },
         "layout": {
          "annotationdefaults": {
           "arrowcolor": "#2a3f5f",
           "arrowhead": 0,
           "arrowwidth": 1
          },
          "coloraxis": {
           "colorbar": {
            "outlinewidth": 0,
            "ticks": ""
           }
          },
          "colorscale": {
           "diverging": [
            [
             0,
             "#8e0152"
            ],
            [
             0.1,
             "#c51b7d"
            ],
            [
             0.2,
             "#de77ae"
            ],
            [
             0.3,
             "#f1b6da"
            ],
            [
             0.4,
             "#fde0ef"
            ],
            [
             0.5,
             "#f7f7f7"
            ],
            [
             0.6,
             "#e6f5d0"
            ],
            [
             0.7,
             "#b8e186"
            ],
            [
             0.8,
             "#7fbc41"
            ],
            [
             0.9,
             "#4d9221"
            ],
            [
             1,
             "#276419"
            ]
           ],
           "sequential": [
            [
             0,
             "#0d0887"
            ],
            [
             0.1111111111111111,
             "#46039f"
            ],
            [
             0.2222222222222222,
             "#7201a8"
            ],
            [
             0.3333333333333333,
             "#9c179e"
            ],
            [
             0.4444444444444444,
             "#bd3786"
            ],
            [
             0.5555555555555556,
             "#d8576b"
            ],
            [
             0.6666666666666666,
             "#ed7953"
            ],
            [
             0.7777777777777778,
             "#fb9f3a"
            ],
            [
             0.8888888888888888,
             "#fdca26"
            ],
            [
             1,
             "#f0f921"
            ]
           ],
           "sequentialminus": [
            [
             0,
             "#0d0887"
            ],
            [
             0.1111111111111111,
             "#46039f"
            ],
            [
             0.2222222222222222,
             "#7201a8"
            ],
            [
             0.3333333333333333,
             "#9c179e"
            ],
            [
             0.4444444444444444,
             "#bd3786"
            ],
            [
             0.5555555555555556,
             "#d8576b"
            ],
            [
             0.6666666666666666,
             "#ed7953"
            ],
            [
             0.7777777777777778,
             "#fb9f3a"
            ],
            [
             0.8888888888888888,
             "#fdca26"
            ],
            [
             1,
             "#f0f921"
            ]
           ]
          },
          "colorway": [
           "#636efa",
           "#EF553B",
           "#00cc96",
           "#ab63fa",
           "#FFA15A",
           "#19d3f3",
           "#FF6692",
           "#B6E880",
           "#FF97FF",
           "#FECB52"
          ],
          "font": {
           "color": "#2a3f5f"
          },
          "geo": {
           "bgcolor": "white",
           "lakecolor": "white",
           "landcolor": "#E5ECF6",
           "showlakes": true,
           "showland": true,
           "subunitcolor": "white"
          },
          "hoverlabel": {
           "align": "left"
          },
          "hovermode": "closest",
          "mapbox": {
           "style": "light"
          },
          "paper_bgcolor": "white",
          "plot_bgcolor": "#E5ECF6",
          "polar": {
           "angularaxis": {
            "gridcolor": "white",
            "linecolor": "white",
            "ticks": ""
           },
           "bgcolor": "#E5ECF6",
           "radialaxis": {
            "gridcolor": "white",
            "linecolor": "white",
            "ticks": ""
           }
          },
          "scene": {
           "xaxis": {
            "backgroundcolor": "#E5ECF6",
            "gridcolor": "white",
            "gridwidth": 2,
            "linecolor": "white",
            "showbackground": true,
            "ticks": "",
            "zerolinecolor": "white"
           },
           "yaxis": {
            "backgroundcolor": "#E5ECF6",
            "gridcolor": "white",
            "gridwidth": 2,
            "linecolor": "white",
            "showbackground": true,
            "ticks": "",
            "zerolinecolor": "white"
           },
           "zaxis": {
            "backgroundcolor": "#E5ECF6",
            "gridcolor": "white",
            "gridwidth": 2,
            "linecolor": "white",
            "showbackground": true,
            "ticks": "",
            "zerolinecolor": "white"
           }
          },
          "shapedefaults": {
           "line": {
            "color": "#2a3f5f"
           }
          },
          "ternary": {
           "aaxis": {
            "gridcolor": "white",
            "linecolor": "white",
            "ticks": ""
           },
           "baxis": {
            "gridcolor": "white",
            "linecolor": "white",
            "ticks": ""
           },
           "bgcolor": "#E5ECF6",
           "caxis": {
            "gridcolor": "white",
            "linecolor": "white",
            "ticks": ""
           }
          },
          "title": {
           "x": 0.05
          },
          "xaxis": {
           "automargin": true,
           "gridcolor": "white",
           "linecolor": "white",
           "ticks": "",
           "title": {
            "standoff": 15
           },
           "zerolinecolor": "white",
           "zerolinewidth": 2
          },
          "yaxis": {
           "automargin": true,
           "gridcolor": "white",
           "linecolor": "white",
           "ticks": "",
           "title": {
            "standoff": 15
           },
           "zerolinecolor": "white",
           "zerolinewidth": 2
          }
         }
        },
        "xaxis": {
         "anchor": "y",
         "domain": [
          0,
          1
         ],
         "type": "date"
        },
        "yaxis": {
         "anchor": "x",
         "domain": [
          0,
          1
         ],
         "title": {
          "text": "Resource"
         }
        }
       }
      }
     },
     "metadata": {}
    }
   ],
   "source": [
    "import plotly.express as px\n",
    "import pandas as pd\n",
    "\n",
    "\n",
    "M1Answer=[(4, 0, 78), (8, 78, 89), (1, 89, 169), (6, 169, 181)]\n",
    "M2Answer=[(7, 0, 99), (2, 99, 185), (5, 185, 263)]\n",
    "M3Answer=[(3, 0, 96), (9, 96, 141), (10, 141, 162)]\n",
    "\n",
    "## 會用到%%\n",
    "df=[]\n",
    "#M1\n",
    "for i in range(len(M1Answer)):\n",
    "    df.append(dict(Task='Job %s'%M1Answer[i][0], Start='2018-07-14 %s'%datetime.timedelta(seconds=M1Answer[i][1]), Finish='2018-07-14 %s'%datetime.timedelta(seconds=M1Answer[i][2]),Resource='Machine 1'))\n",
    "\n",
    "for i in range(len(M2Answer)):\n",
    "    df.append(dict(Task='Job %s'%M2Answer[i][0], Start='2018-07-14 %s'%datetime.timedelta(seconds=M2Answer[i][1]), Finish='2018-07-14 %s'%datetime.timedelta(seconds=M2Answer[i][2]),Resource='Machine 2'))\n",
    "\n",
    "for i in range(len(M3Answer)):\n",
    "    df.append(dict(Task='Job %s'%M3Answer[i][0], Start='2018-07-14 %s'%datetime.timedelta(seconds=M3Answer[i][1]), Finish='2018-07-14 %s'%datetime.timedelta(seconds=M3Answer[i][2]),Resource='Machine 3'))\n",
    "'''\n",
    "df = pd.DataFrame([\n",
    "    dict(Task=\"Job A\", Start='2009-01-01', Finish='2009-02-28', Resource=\"Alex\"),\n",
    "    dict(Task=\"Job B\", Start='2009-03-05', Finish='2009-04-15', Resource=\"Alex\"),\n",
    "    dict(Task=\"Job C\", Start='2009-02-20', Finish='2009-05-30', Resource=\"Max\")\n",
    "])\n",
    "'''\n",
    "fig = px.timeline(df, x_start=\"Start\", x_end=\"Finish\", y=\"Resource\", color=\"Task\")\n",
    "fig.show()"
   ]
  },
  {
   "cell_type": "code",
   "execution_count": 35,
   "metadata": {
    "tags": []
   },
   "outputs": [
    {
     "output_type": "stream",
     "name": "stdout",
     "text": "0\n78\n89\n169\n"
    }
   ],
   "source": [
    "M1Answer=[(4, 0, 78), (8, 78, 89), (1, 89, 169), (6, 169, 181)]\n",
    "#print(M1Answer[0][2])\n",
    "\n",
    "for i in range(len(M1Answer)):\n",
    "    print(M1Answer[i][1])\n"
   ]
  },
  {
   "cell_type": "code",
   "execution_count": 11,
   "metadata": {
    "tags": []
   },
   "outputs": [
    {
     "output_type": "stream",
     "name": "stdout",
     "text": "步驟一\n[1, 3, 6, 8]\n[2, 4, 5, 9]\n[7, 10]\n步驟二\n[1, 3, 6, 8]\n[5, 2, 9, 4]\n[7, 10]\n步驟三\n[(1, 0, 80), (3, 80, 105), (6, 105, 117), (8, 117, 128)]\n[(5, 0, 78), (2, 78, 164), (9, 164, 180), (4, 180, 275)]\n[(7, 0, 87), (10, 87, 108)]\n"
    },
    {
     "output_type": "display_data",
     "data": {
      "application/vnd.plotly.v1+json": {
       "config": {
        "plotlyServerURL": "https://plotly.com"
       },
       "data": [
        {
         "alignmentgroup": "True",
         "base": [
          "2018-07-14 0:00:00"
         ],
         "hovertemplate": "Task=Job 1<br>Start=%{base}<br>Finish=%{x}<br>Resource=%{y}<extra></extra>",
         "legendgroup": "Job 1",
         "marker": {
          "color": "#636efa"
         },
         "name": "Job 1",
         "offsetgroup": "Job 1",
         "orientation": "h",
         "showlegend": true,
         "textposition": "auto",
         "type": "bar",
         "x": [
          80000
         ],
         "xaxis": "x",
         "y": [
          "Machine 1"
         ],
         "yaxis": "y"
        },
        {
         "alignmentgroup": "True",
         "base": [
          "2018-07-14 0:01:20"
         ],
         "hovertemplate": "Task=Job 3<br>Start=%{base}<br>Finish=%{x}<br>Resource=%{y}<extra></extra>",
         "legendgroup": "Job 3",
         "marker": {
          "color": "#EF553B"
         },
         "name": "Job 3",
         "offsetgroup": "Job 3",
         "orientation": "h",
         "showlegend": true,
         "textposition": "auto",
         "type": "bar",
         "x": [
          25000
         ],
         "xaxis": "x",
         "y": [
          "Machine 1"
         ],
         "yaxis": "y"
        },
        {
         "alignmentgroup": "True",
         "base": [
          "2018-07-14 0:01:45"
         ],
         "hovertemplate": "Task=Job 6<br>Start=%{base}<br>Finish=%{x}<br>Resource=%{y}<extra></extra>",
         "legendgroup": "Job 6",
         "marker": {
          "color": "#00cc96"
         },
         "name": "Job 6",
         "offsetgroup": "Job 6",
         "orientation": "h",
         "showlegend": true,
         "textposition": "auto",
         "type": "bar",
         "x": [
          12000
         ],
         "xaxis": "x",
         "y": [
          "Machine 1"
         ],
         "yaxis": "y"
        },
        {
         "alignmentgroup": "True",
         "base": [
          "2018-07-14 0:01:57"
         ],
         "hovertemplate": "Task=Job 8<br>Start=%{base}<br>Finish=%{x}<br>Resource=%{y}<extra></extra>",
         "legendgroup": "Job 8",
         "marker": {
          "color": "#ab63fa"
         },
         "name": "Job 8",
         "offsetgroup": "Job 8",
         "orientation": "h",
         "showlegend": true,
         "textposition": "auto",
         "type": "bar",
         "x": [
          11000
         ],
         "xaxis": "x",
         "y": [
          "Machine 1"
         ],
         "yaxis": "y"
        },
        {
         "alignmentgroup": "True",
         "base": [
          "2018-07-14 0:00:00"
         ],
         "hovertemplate": "Task=Job 5<br>Start=%{base}<br>Finish=%{x}<br>Resource=%{y}<extra></extra>",
         "legendgroup": "Job 5",
         "marker": {
          "color": "#FFA15A"
         },
         "name": "Job 5",
         "offsetgroup": "Job 5",
         "orientation": "h",
         "showlegend": true,
         "textposition": "auto",
         "type": "bar",
         "x": [
          78000
         ],
         "xaxis": "x",
         "y": [
          "Machine 2"
         ],
         "yaxis": "y"
        },
        {
         "alignmentgroup": "True",
         "base": [
          "2018-07-14 0:01:18"
         ],
         "hovertemplate": "Task=Job 2<br>Start=%{base}<br>Finish=%{x}<br>Resource=%{y}<extra></extra>",
         "legendgroup": "Job 2",
         "marker": {
          "color": "#19d3f3"
         },
         "name": "Job 2",
         "offsetgroup": "Job 2",
         "orientation": "h",
         "showlegend": true,
         "textposition": "auto",
         "type": "bar",
         "x": [
          86000
         ],
         "xaxis": "x",
         "y": [
          "Machine 2"
         ],
         "yaxis": "y"
        },
        {
         "alignmentgroup": "True",
         "base": [
          "2018-07-14 0:02:44"
         ],
         "hovertemplate": "Task=Job 9<br>Start=%{base}<br>Finish=%{x}<br>Resource=%{y}<extra></extra>",
         "legendgroup": "Job 9",
         "marker": {
          "color": "#FF6692"
         },
         "name": "Job 9",
         "offsetgroup": "Job 9",
         "orientation": "h",
         "showlegend": true,
         "textposition": "auto",
         "type": "bar",
         "x": [
          16000
         ],
         "xaxis": "x",
         "y": [
          "Machine 2"
         ],
         "yaxis": "y"
        },
        {
         "alignmentgroup": "True",
         "base": [
          "2018-07-14 0:03:00"
         ],
         "hovertemplate": "Task=Job 4<br>Start=%{base}<br>Finish=%{x}<br>Resource=%{y}<extra></extra>",
         "legendgroup": "Job 4",
         "marker": {
          "color": "#B6E880"
         },
         "name": "Job 4",
         "offsetgroup": "Job 4",
         "orientation": "h",
         "showlegend": true,
         "textposition": "auto",
         "type": "bar",
         "x": [
          95000
         ],
         "xaxis": "x",
         "y": [
          "Machine 2"
         ],
         "yaxis": "y"
        },
        {
         "alignmentgroup": "True",
         "base": [
          "2018-07-14 0:00:00"
         ],
         "hovertemplate": "Task=Job 7<br>Start=%{base}<br>Finish=%{x}<br>Resource=%{y}<extra></extra>",
         "legendgroup": "Job 7",
         "marker": {
          "color": "#FF97FF"
         },
         "name": "Job 7",
         "offsetgroup": "Job 7",
         "orientation": "h",
         "showlegend": true,
         "textposition": "auto",
         "type": "bar",
         "x": [
          87000
         ],
         "xaxis": "x",
         "y": [
          "Machine 3"
         ],
         "yaxis": "y"
        },
        {
         "alignmentgroup": "True",
         "base": [
          "2018-07-14 0:01:27"
         ],
         "hovertemplate": "Task=Job 10<br>Start=%{base}<br>Finish=%{x}<br>Resource=%{y}<extra></extra>",
         "legendgroup": "Job 10",
         "marker": {
          "color": "#FECB52"
         },
         "name": "Job 10",
         "offsetgroup": "Job 10",
         "orientation": "h",
         "showlegend": true,
         "textposition": "auto",
         "type": "bar",
         "x": [
          21000
         ],
         "xaxis": "x",
         "y": [
          "Machine 3"
         ],
         "yaxis": "y"
        }
       ],
       "layout": {
        "barmode": "overlay",
        "legend": {
         "title": {
          "text": "Task"
         },
         "tracegroupgap": 0
        },
        "margin": {
         "t": 60
        },
        "template": {
         "data": {
          "bar": [
           {
            "error_x": {
             "color": "#2a3f5f"
            },
            "error_y": {
             "color": "#2a3f5f"
            },
            "marker": {
             "line": {
              "color": "#E5ECF6",
              "width": 0.5
             }
            },
            "type": "bar"
           }
          ],
          "barpolar": [
           {
            "marker": {
             "line": {
              "color": "#E5ECF6",
              "width": 0.5
             }
            },
            "type": "barpolar"
           }
          ],
          "carpet": [
           {
            "aaxis": {
             "endlinecolor": "#2a3f5f",
             "gridcolor": "white",
             "linecolor": "white",
             "minorgridcolor": "white",
             "startlinecolor": "#2a3f5f"
            },
            "baxis": {
             "endlinecolor": "#2a3f5f",
             "gridcolor": "white",
             "linecolor": "white",
             "minorgridcolor": "white",
             "startlinecolor": "#2a3f5f"
            },
            "type": "carpet"
           }
          ],
          "choropleth": [
           {
            "colorbar": {
             "outlinewidth": 0,
             "ticks": ""
            },
            "type": "choropleth"
           }
          ],
          "contour": [
           {
            "colorbar": {
             "outlinewidth": 0,
             "ticks": ""
            },
            "colorscale": [
             [
              0,
              "#0d0887"
             ],
             [
              0.1111111111111111,
              "#46039f"
             ],
             [
              0.2222222222222222,
              "#7201a8"
             ],
             [
              0.3333333333333333,
              "#9c179e"
             ],
             [
              0.4444444444444444,
              "#bd3786"
             ],
             [
              0.5555555555555556,
              "#d8576b"
             ],
             [
              0.6666666666666666,
              "#ed7953"
             ],
             [
              0.7777777777777778,
              "#fb9f3a"
             ],
             [
              0.8888888888888888,
              "#fdca26"
             ],
             [
              1,
              "#f0f921"
             ]
            ],
            "type": "contour"
           }
          ],
          "contourcarpet": [
           {
            "colorbar": {
             "outlinewidth": 0,
             "ticks": ""
            },
            "type": "contourcarpet"
           }
          ],
          "heatmap": [
           {
            "colorbar": {
             "outlinewidth": 0,
             "ticks": ""
            },
            "colorscale": [
             [
              0,
              "#0d0887"
             ],
             [
              0.1111111111111111,
              "#46039f"
             ],
             [
              0.2222222222222222,
              "#7201a8"
             ],
             [
              0.3333333333333333,
              "#9c179e"
             ],
             [
              0.4444444444444444,
              "#bd3786"
             ],
             [
              0.5555555555555556,
              "#d8576b"
             ],
             [
              0.6666666666666666,
              "#ed7953"
             ],
             [
              0.7777777777777778,
              "#fb9f3a"
             ],
             [
              0.8888888888888888,
              "#fdca26"
             ],
             [
              1,
              "#f0f921"
             ]
            ],
            "type": "heatmap"
           }
          ],
          "heatmapgl": [
           {
            "colorbar": {
             "outlinewidth": 0,
             "ticks": ""
            },
            "colorscale": [
             [
              0,
              "#0d0887"
             ],
             [
              0.1111111111111111,
              "#46039f"
             ],
             [
              0.2222222222222222,
              "#7201a8"
             ],
             [
              0.3333333333333333,
              "#9c179e"
             ],
             [
              0.4444444444444444,
              "#bd3786"
             ],
             [
              0.5555555555555556,
              "#d8576b"
             ],
             [
              0.6666666666666666,
              "#ed7953"
             ],
             [
              0.7777777777777778,
              "#fb9f3a"
             ],
             [
              0.8888888888888888,
              "#fdca26"
             ],
             [
              1,
              "#f0f921"
             ]
            ],
            "type": "heatmapgl"
           }
          ],
          "histogram": [
           {
            "marker": {
             "colorbar": {
              "outlinewidth": 0,
              "ticks": ""
             }
            },
            "type": "histogram"
           }
          ],
          "histogram2d": [
           {
            "colorbar": {
             "outlinewidth": 0,
             "ticks": ""
            },
            "colorscale": [
             [
              0,
              "#0d0887"
             ],
             [
              0.1111111111111111,
              "#46039f"
             ],
             [
              0.2222222222222222,
              "#7201a8"
             ],
             [
              0.3333333333333333,
              "#9c179e"
             ],
             [
              0.4444444444444444,
              "#bd3786"
             ],
             [
              0.5555555555555556,
              "#d8576b"
             ],
             [
              0.6666666666666666,
              "#ed7953"
             ],
             [
              0.7777777777777778,
              "#fb9f3a"
             ],
             [
              0.8888888888888888,
              "#fdca26"
             ],
             [
              1,
              "#f0f921"
             ]
            ],
            "type": "histogram2d"
           }
          ],
          "histogram2dcontour": [
           {
            "colorbar": {
             "outlinewidth": 0,
             "ticks": ""
            },
            "colorscale": [
             [
              0,
              "#0d0887"
             ],
             [
              0.1111111111111111,
              "#46039f"
             ],
             [
              0.2222222222222222,
              "#7201a8"
             ],
             [
              0.3333333333333333,
              "#9c179e"
             ],
             [
              0.4444444444444444,
              "#bd3786"
             ],
             [
              0.5555555555555556,
              "#d8576b"
             ],
             [
              0.6666666666666666,
              "#ed7953"
             ],
             [
              0.7777777777777778,
              "#fb9f3a"
             ],
             [
              0.8888888888888888,
              "#fdca26"
             ],
             [
              1,
              "#f0f921"
             ]
            ],
            "type": "histogram2dcontour"
           }
          ],
          "mesh3d": [
           {
            "colorbar": {
             "outlinewidth": 0,
             "ticks": ""
            },
            "type": "mesh3d"
           }
          ],
          "parcoords": [
           {
            "line": {
             "colorbar": {
              "outlinewidth": 0,
              "ticks": ""
             }
            },
            "type": "parcoords"
           }
          ],
          "pie": [
           {
            "automargin": true,
            "type": "pie"
           }
          ],
          "scatter": [
           {
            "marker": {
             "colorbar": {
              "outlinewidth": 0,
              "ticks": ""
             }
            },
            "type": "scatter"
           }
          ],
          "scatter3d": [
           {
            "line": {
             "colorbar": {
              "outlinewidth": 0,
              "ticks": ""
             }
            },
            "marker": {
             "colorbar": {
              "outlinewidth": 0,
              "ticks": ""
             }
            },
            "type": "scatter3d"
           }
          ],
          "scattercarpet": [
           {
            "marker": {
             "colorbar": {
              "outlinewidth": 0,
              "ticks": ""
             }
            },
            "type": "scattercarpet"
           }
          ],
          "scattergeo": [
           {
            "marker": {
             "colorbar": {
              "outlinewidth": 0,
              "ticks": ""
             }
            },
            "type": "scattergeo"
           }
          ],
          "scattergl": [
           {
            "marker": {
             "colorbar": {
              "outlinewidth": 0,
              "ticks": ""
             }
            },
            "type": "scattergl"
           }
          ],
          "scattermapbox": [
           {
            "marker": {
             "colorbar": {
              "outlinewidth": 0,
              "ticks": ""
             }
            },
            "type": "scattermapbox"
           }
          ],
          "scatterpolar": [
           {
            "marker": {
             "colorbar": {
              "outlinewidth": 0,
              "ticks": ""
             }
            },
            "type": "scatterpolar"
           }
          ],
          "scatterpolargl": [
           {
            "marker": {
             "colorbar": {
              "outlinewidth": 0,
              "ticks": ""
             }
            },
            "type": "scatterpolargl"
           }
          ],
          "scatterternary": [
           {
            "marker": {
             "colorbar": {
              "outlinewidth": 0,
              "ticks": ""
             }
            },
            "type": "scatterternary"
           }
          ],
          "surface": [
           {
            "colorbar": {
             "outlinewidth": 0,
             "ticks": ""
            },
            "colorscale": [
             [
              0,
              "#0d0887"
             ],
             [
              0.1111111111111111,
              "#46039f"
             ],
             [
              0.2222222222222222,
              "#7201a8"
             ],
             [
              0.3333333333333333,
              "#9c179e"
             ],
             [
              0.4444444444444444,
              "#bd3786"
             ],
             [
              0.5555555555555556,
              "#d8576b"
             ],
             [
              0.6666666666666666,
              "#ed7953"
             ],
             [
              0.7777777777777778,
              "#fb9f3a"
             ],
             [
              0.8888888888888888,
              "#fdca26"
             ],
             [
              1,
              "#f0f921"
             ]
            ],
            "type": "surface"
           }
          ],
          "table": [
           {
            "cells": {
             "fill": {
              "color": "#EBF0F8"
             },
             "line": {
              "color": "white"
             }
            },
            "header": {
             "fill": {
              "color": "#C8D4E3"
             },
             "line": {
              "color": "white"
             }
            },
            "type": "table"
           }
          ]
         },
         "layout": {
          "annotationdefaults": {
           "arrowcolor": "#2a3f5f",
           "arrowhead": 0,
           "arrowwidth": 1
          },
          "coloraxis": {
           "colorbar": {
            "outlinewidth": 0,
            "ticks": ""
           }
          },
          "colorscale": {
           "diverging": [
            [
             0,
             "#8e0152"
            ],
            [
             0.1,
             "#c51b7d"
            ],
            [
             0.2,
             "#de77ae"
            ],
            [
             0.3,
             "#f1b6da"
            ],
            [
             0.4,
             "#fde0ef"
            ],
            [
             0.5,
             "#f7f7f7"
            ],
            [
             0.6,
             "#e6f5d0"
            ],
            [
             0.7,
             "#b8e186"
            ],
            [
             0.8,
             "#7fbc41"
            ],
            [
             0.9,
             "#4d9221"
            ],
            [
             1,
             "#276419"
            ]
           ],
           "sequential": [
            [
             0,
             "#0d0887"
            ],
            [
             0.1111111111111111,
             "#46039f"
            ],
            [
             0.2222222222222222,
             "#7201a8"
            ],
            [
             0.3333333333333333,
             "#9c179e"
            ],
            [
             0.4444444444444444,
             "#bd3786"
            ],
            [
             0.5555555555555556,
             "#d8576b"
            ],
            [
             0.6666666666666666,
             "#ed7953"
            ],
            [
             0.7777777777777778,
             "#fb9f3a"
            ],
            [
             0.8888888888888888,
             "#fdca26"
            ],
            [
             1,
             "#f0f921"
            ]
           ],
           "sequentialminus": [
            [
             0,
             "#0d0887"
            ],
            [
             0.1111111111111111,
             "#46039f"
            ],
            [
             0.2222222222222222,
             "#7201a8"
            ],
            [
             0.3333333333333333,
             "#9c179e"
            ],
            [
             0.4444444444444444,
             "#bd3786"
            ],
            [
             0.5555555555555556,
             "#d8576b"
            ],
            [
             0.6666666666666666,
             "#ed7953"
            ],
            [
             0.7777777777777778,
             "#fb9f3a"
            ],
            [
             0.8888888888888888,
             "#fdca26"
            ],
            [
             1,
             "#f0f921"
            ]
           ]
          },
          "colorway": [
           "#636efa",
           "#EF553B",
           "#00cc96",
           "#ab63fa",
           "#FFA15A",
           "#19d3f3",
           "#FF6692",
           "#B6E880",
           "#FF97FF",
           "#FECB52"
          ],
          "font": {
           "color": "#2a3f5f"
          },
          "geo": {
           "bgcolor": "white",
           "lakecolor": "white",
           "landcolor": "#E5ECF6",
           "showlakes": true,
           "showland": true,
           "subunitcolor": "white"
          },
          "hoverlabel": {
           "align": "left"
          },
          "hovermode": "closest",
          "mapbox": {
           "style": "light"
          },
          "paper_bgcolor": "white",
          "plot_bgcolor": "#E5ECF6",
          "polar": {
           "angularaxis": {
            "gridcolor": "white",
            "linecolor": "white",
            "ticks": ""
           },
           "bgcolor": "#E5ECF6",
           "radialaxis": {
            "gridcolor": "white",
            "linecolor": "white",
            "ticks": ""
           }
          },
          "scene": {
           "xaxis": {
            "backgroundcolor": "#E5ECF6",
            "gridcolor": "white",
            "gridwidth": 2,
            "linecolor": "white",
            "showbackground": true,
            "ticks": "",
            "zerolinecolor": "white"
           },
           "yaxis": {
            "backgroundcolor": "#E5ECF6",
            "gridcolor": "white",
            "gridwidth": 2,
            "linecolor": "white",
            "showbackground": true,
            "ticks": "",
            "zerolinecolor": "white"
           },
           "zaxis": {
            "backgroundcolor": "#E5ECF6",
            "gridcolor": "white",
            "gridwidth": 2,
            "linecolor": "white",
            "showbackground": true,
            "ticks": "",
            "zerolinecolor": "white"
           }
          },
          "shapedefaults": {
           "line": {
            "color": "#2a3f5f"
           }
          },
          "ternary": {
           "aaxis": {
            "gridcolor": "white",
            "linecolor": "white",
            "ticks": ""
           },
           "baxis": {
            "gridcolor": "white",
            "linecolor": "white",
            "ticks": ""
           },
           "bgcolor": "#E5ECF6",
           "caxis": {
            "gridcolor": "white",
            "linecolor": "white",
            "ticks": ""
           }
          },
          "title": {
           "x": 0.05
          },
          "xaxis": {
           "automargin": true,
           "gridcolor": "white",
           "linecolor": "white",
           "ticks": "",
           "title": {
            "standoff": 15
           },
           "zerolinecolor": "white",
           "zerolinewidth": 2
          },
          "yaxis": {
           "automargin": true,
           "gridcolor": "white",
           "linecolor": "white",
           "ticks": "",
           "title": {
            "standoff": 15
           },
           "zerolinecolor": "white",
           "zerolinewidth": 2
          }
         }
        },
        "xaxis": {
         "anchor": "y",
         "domain": [
          0,
          1
         ],
         "type": "date"
        },
        "yaxis": {
         "anchor": "x",
         "domain": [
          0,
          1
         ],
         "title": {
          "text": "Resource"
         }
        }
       }
      }
     },
     "metadata": {}
    }
   ],
   "source": [
    "# -*- coding: utf-8 -*-\n",
    "\"\"\"\n",
    "Created on Wed Jul 15 19:31:08 2020\n",
    "\n",
    "@author: admin\n",
    "\"\"\"\n",
    "#步驟一\n",
    "#將每個Job 亂數指派到Machine 1~3之一\n",
    "\n",
    "#工件機器限制 K\n",
    "MachineLimit=[[1,0,1],[1,1,1],[1,0,1],[1,1,1],[1,1,0],\n",
    "              [1,0,1],[1,1,1],[1,0,1],[0,1,1],[1,1,1]]\n",
    "\n",
    "#工作時間\n",
    "Processtime=[[80,0,60],[75,86,94],[25,0,96],[78,95,89],[45,78,0],\n",
    "              [12,0,65],[55,99,87],[11,0,16],[0,16,45],[43,56,21]]\n",
    "\n",
    "\n",
    "#指派機器Function\n",
    "def GetMachineNumber(MachineLimit):\n",
    "\n",
    "    #選機隨機碼\n",
    "    import random\n",
    "    SelectJobCode=random.random() #0~1亂數\n",
    "    #單份機率\n",
    "    sum = 0\n",
    "    for i in MachineLimit:\n",
    "        sum += i\n",
    "    PJ1 =1/sum\n",
    "    #決定是第幾份(k)\n",
    "    k=1 #<預設為第一份>\n",
    "    TotalPJ1=PJ1\n",
    "    while(SelectJobCode>TotalPJ1):\n",
    "        k+=1\n",
    "        TotalPJ1=PJ1*k\n",
    "\n",
    "    #print(k)\n",
    "\n",
    "    #工作派給機器(j)\n",
    "    FinalMachineJ1=0\n",
    "    sequence=[0,1,2] #機1.2.3\n",
    "    for j in sequence:\n",
    "        if(MachineLimit[j]==1):\n",
    "            k-=1\n",
    "        if(k==0):\n",
    "            FinalMachineJ1=j+1 #加回來\n",
    "            break\n",
    "    return FinalMachineJ1\n",
    "\n",
    "##(呼叫Function)指派10工件給3機\n",
    "JobResult=[]\n",
    "for s in MachineLimit:\n",
    "    JobResult.append(GetMachineNumber(s)) #參數 工件一:[1,0,1]...\n",
    "\n",
    "#分類依機台\n",
    "MachineNumber=1\n",
    "M1=[]\n",
    "M2=[]\n",
    "M3=[]\n",
    "for w in JobResult:\n",
    "    if(w==1):\n",
    "        M1.append(MachineNumber)\n",
    "    elif(w==2):\n",
    "        M2.append(MachineNumber)\n",
    "    else:\n",
    "        M3.append(MachineNumber)\n",
    "    MachineNumber+=1\n",
    "print(\"步驟一\")\n",
    "print(M1)\n",
    "print(M2)\n",
    "print(M3)\n",
    "\n",
    "#步驟二\n",
    "#決定每個Job在三個機台中的先後順序\n",
    "\n",
    "#產生順序隨機碼，進行排序\n",
    "import random\n",
    "OrderJobM1=[]\n",
    "OrderJobM2=[]\n",
    "OrderJobM3=[]\n",
    "for x in range(len(M1)):\n",
    "    OrderJobM1.append(random.random())\n",
    "cM1 = list(zip(M1,OrderJobM1))  #兩個一維轉成一個二維\n",
    "nM1=sorted(cM1,key=(lambda x:x[1]),reverse=True) #二維排序(x[1]針對欄位二) 由大到小\n",
    "#print(nM1)  #排序結果\n",
    "for x in range(len(M2)):\n",
    "    OrderJobM2.append(random.random())\n",
    "cM2 = list(zip(M2,OrderJobM2))  #兩個一維轉成一個二維\n",
    "nM2=sorted(cM2,key=(lambda x:x[1]),reverse=True) #二維排序\n",
    "#print(nM2)  #排序結果\n",
    "\n",
    "for x in range(len(M3)):\n",
    "    OrderJobM3.append(random.random())\n",
    "cM3 = list(zip(M3,OrderJobM3))  #兩個一維轉成一個二維\n",
    "nM3=sorted(cM3,key=(lambda x:x[1]),reverse=True) #二維排序\n",
    "#print(nM3)  #排序結果\n",
    "\n",
    "print(\"步驟二\")\n",
    "# 只取出排序後的工件欄位(nnM?)\n",
    "nnM1=[]\n",
    "for a in range(len(nM1)):\n",
    "   # print(nM1[a][0]) >> Job幾\n",
    "    nnM1.append(nM1[a][0])\n",
    "print(nnM1)\n",
    "nnM2=[]\n",
    " # 工作順序\n",
    "for a in range(len(nM2)):\n",
    "   # print(nM1[a][0]) >> Job幾\n",
    "    nnM2.append(nM2[a][0])\n",
    "print(nnM2)\n",
    "\n",
    "nnM3=[]\n",
    " # 工作順序\n",
    "for a in range(len(nM3)):\n",
    "   # print(nM1[a][0]) >> Job幾\n",
    "    nnM3.append(nM3[a][0])\n",
    "print(nnM3)\n",
    "\n",
    "\n",
    "\n",
    "#步驟三\n",
    "#計算每個Job的開始與結束時間\n",
    "print(\"步驟三\")\n",
    "###---------M1-------\n",
    "\n",
    "# 開始時間\n",
    "M1t=0\n",
    "M1StartAnswer=M1t\n",
    "M1StartT=[]\n",
    "M1StartT.append(M1t)\n",
    "for b in range(len(nnM1)-1):\n",
    "   # M1StartT.append(Processtime[nnM1[b]-1][0])\n",
    "    M1StartAnswer+=Processtime[nnM1[b]-1][0]\n",
    "    M1StartT.append(M1StartAnswer)\n",
    "\n",
    "# 結束時間\n",
    "M1EndAnswer=M1t\n",
    "M1EndT=[]\n",
    "for b in range(len(nnM1)):\n",
    "   # M1StartT.append(Processtime[nnM1[b]-1][0])\n",
    "    M1EndAnswer+=Processtime[nnM1[b]-1][0]   #0 [80,0,60] 取第一個欄位\n",
    "    M1EndT.append(M1EndAnswer)\n",
    "# 合併\n",
    "M1Answer = list(zip(nnM1,M1StartT,M1EndT))\n",
    "print(M1Answer)\n",
    "\n",
    "\n",
    "###---------M2-------\n",
    "\n",
    "\n",
    "# 開始時間\n",
    "M2t=0\n",
    "M2StartAnswer=M2t\n",
    "M2StartT=[]\n",
    "M2StartT.append(M2t)\n",
    "for b in range(len(nnM2)-1):\n",
    "   # M1StartT.append(Processtime[nnM1[b]-1][0])\n",
    "    M2StartAnswer+=Processtime[nnM2[b]-1][1]    #1 [80,0,60] 取第二個欄位\n",
    "    M2StartT.append(M2StartAnswer)\n",
    "\n",
    "# 結束時間\n",
    "M2EndAnswer=M2t\n",
    "M2EndT=[]\n",
    "for b in range(len(nnM2)):\n",
    "   # M1StartT.append(Processtime[nnM1[b]-1][0])\n",
    "    M2EndAnswer+=Processtime[nnM2[b]-1][1]\n",
    "    M2EndT.append(M2EndAnswer)\n",
    "# 合併\n",
    "M2Answer = list(zip(nnM2,M2StartT,M2EndT))\n",
    "print(M2Answer)\n",
    "\n",
    "###---------M3-------\n",
    "\n",
    "\n",
    "# 開始時間\n",
    "M3t=0\n",
    "M3StartAnswer=M3t\n",
    "M3StartT=[]\n",
    "M3StartT.append(M3t)\n",
    "for b in range(len(nnM3)-1):\n",
    "   # M1StartT.append(Processtime[nnM1[b]-1][0])\n",
    "    M3StartAnswer+=Processtime[nnM3[b]-1][2]    #2 [80,0,60] 取第三個欄位\n",
    "    M3StartT.append(M3StartAnswer)\n",
    "\n",
    "# 結束時間\n",
    "M3EndAnswer=M3t\n",
    "M3EndT=[]\n",
    "for b in range(len(nnM3)):\n",
    "   # M1StartT.append(Processtime[nnM1[b]-1][0])\n",
    "    M3EndAnswer+=Processtime[nnM3[b]-1][2]\n",
    "    M3EndT.append(M3EndAnswer)\n",
    "# 合併\n",
    "M3Answer = list(zip(nnM3,M3StartT,M3EndT))\n",
    "print(M3Answer)\n",
    "\n",
    "#-------Makespan----------\n",
    "'''\n",
    "if(M1Answer>M2Answer and M1Answer>M3Answer):\n",
    "    print(\"M1\"+\" \"+ str(M1Answer))\n",
    "elif(M2Answer>M1Answer and M2Answer>M3Answer):\n",
    "    print(\"M2\"+\" \"+ str(M2Answer))\n",
    "else:\n",
    "    print(\"M3\"+\" \"+ str(M3Answer))\n",
    "'''\n",
    "\n",
    "\n",
    "## Gantt\n",
    "\n",
    "import plotly.express as px\n",
    "import pandas as pd\n",
    "import datetime\n",
    "\n",
    "## 會用到%%\n",
    "df=[]\n",
    "#M1\n",
    "for i in range(len(M1Answer)):\n",
    "    df.append(dict(Task='Job %s'%M1Answer[i][0], Start='2018-07-14 %s'%datetime.timedelta(seconds=M1Answer[i][1]), Finish='2018-07-14 %s'%datetime.timedelta(seconds=M1Answer[i][2]),Resource='Machine 1'))\n",
    "\n",
    "for i in range(len(M2Answer)):\n",
    "    df.append(dict(Task='Job %s'%M2Answer[i][0], Start='2018-07-14 %s'%datetime.timedelta(seconds=M2Answer[i][1]), Finish='2018-07-14 %s'%datetime.timedelta(seconds=M2Answer[i][2]),Resource='Machine 2'))\n",
    "\n",
    "for i in range(len(M3Answer)):\n",
    "    df.append(dict(Task='Job %s'%M3Answer[i][0], Start='2018-07-14 %s'%datetime.timedelta(seconds=M3Answer[i][1]), Finish='2018-07-14 %s'%datetime.timedelta(seconds=M3Answer[i][2]),Resource='Machine 3'))\n",
    "'''\n",
    "df = pd.DataFrame([\n",
    "    dict(Task=\"Job A\", Start='2009-01-01', Finish='2009-02-28', Resource=\"Alex\"),\n",
    "    dict(Task=\"Job B\", Start='2009-03-05', Finish='2009-04-15', Resource=\"Alex\"),\n",
    "    dict(Task=\"Job C\", Start='2009-02-20', Finish='2009-05-30', Resource=\"Max\")\n",
    "])\n",
    "'''\n",
    "fig = px.timeline(df, x_start=\"Start\", x_end=\"Finish\", y=\"Resource\", color=\"Task\")\n",
    "fig.show()"
   ]
  },
  {
   "cell_type": "code",
   "execution_count": null,
   "metadata": {},
   "outputs": [],
   "source": []
  }
 ]
}