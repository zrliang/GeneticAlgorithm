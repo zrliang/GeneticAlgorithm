{
 "metadata": {
  "language_info": {
   "codemirror_mode": {
    "name": "ipython",
    "version": 3
   },
   "file_extension": ".py",
   "mimetype": "text/x-python",
   "name": "python",
   "nbconvert_exporter": "python",
   "pygments_lexer": "ipython3",
   "version": "3.7.8-final"
  },
  "orig_nbformat": 2,
  "kernelspec": {
   "name": "python_defaultSpec_1598430158689",
   "display_name": "Python 3.7.8 64-bit"
  }
 },
 "nbformat": 4,
 "nbformat_minor": 2,
 "cells": [
  {
   "cell_type": "code",
   "execution_count": 251,
   "metadata": {
    "tags": []
   },
   "outputs": [
    {
     "output_type": "stream",
     "name": "stdout",
     "text": "7\n[5, 6]\n[1, 2, 3, 4, 11, 12] [7, 8, 9, 10, 5, 6]\n"
    }
   ],
   "source": [
    "#雙點交配\n",
    "\n",
    "p1=[1,2,3,4,5,6]\n",
    "print(len(p1)+1)\n",
    "p2=[7,8,9,10,11,12]\n",
    "CutPoint=[]\n",
    "import random\n",
    "size=range(1,7)  #染色體大小 #10+10(range(1,21))\n",
    "\n",
    "CutPoint=random.sample(size, 2)\n",
    "CutPoint.sort() \n",
    "print(CutPoint)\n",
    "\n",
    "strpoint=CutPoint[0]\n",
    "endpoint=CutPoint[1]\n",
    "\n",
    "c1=p1[:]\n",
    "c2=p2[:]\n",
    "c1[strpoint-1:endpoint]=p2[strpoint-1:endpoint]\n",
    "c2[strpoint-1:endpoint]=p1[strpoint-1:endpoint]\n",
    "print(c1,c2)\n"
   ]
  },
  {
   "cell_type": "code",
   "execution_count": 4,
   "metadata": {
    "tags": []
   },
   "outputs": [
    {
     "output_type": "error",
     "ename": "IndexError",
     "evalue": "list index out of range",
     "traceback": [
      "\u001b[1;31m---------------------------------------------------------------------------\u001b[0m",
      "\u001b[1;31mIndexError\u001b[0m                                Traceback (most recent call last)",
      "\u001b[1;32m<ipython-input-4-9782c7f87a85>\u001b[0m in \u001b[0;36m<module>\u001b[1;34m\u001b[0m\n\u001b[0;32m      1\u001b[0m \u001b[0ma\u001b[0m\u001b[1;33m=\u001b[0m\u001b[1;33m[\u001b[0m\u001b[1;33m]\u001b[0m\u001b[1;33m\u001b[0m\u001b[1;33m\u001b[0m\u001b[0m\n\u001b[1;32m----> 2\u001b[1;33m \u001b[0ma\u001b[0m\u001b[1;33m[\u001b[0m\u001b[1;33m-\u001b[0m\u001b[1;36m1\u001b[0m\u001b[1;33m]\u001b[0m\u001b[1;33m\u001b[0m\u001b[1;33m\u001b[0m\u001b[0m\n\u001b[0m",
      "\u001b[1;31mIndexError\u001b[0m: list index out of range"
     ]
    }
   ],
   "source": [
    "if(len(M1EndT)==0):\n",
    "    \n",
    "\n",
    "\n",
    "\n",
    "if(M1EndT[-1]>M2EndT[-1] and M1EndT[-1]>M3EndT[-1]):\n",
    "    Makespan=M1EndT[-1]\n",
    "elif(M2EndT[-1]>M1EndT[-1] and M2EndT[-1]>M3EndT[-1]):\n",
    "    Makespan=M2EndT[-1]\n",
    "else:\n",
    "    Makespan=M3EndT[-1]\n"
   ]
  },
  {
   "cell_type": "code",
   "execution_count": 9,
   "metadata": {
    "tags": []
   },
   "outputs": [],
   "source": [
    "a=0\n",
    "if(a==2 or a==1 or a==2):\n",
    "    print(\"YeS\")\n",
    "\n"
   ]
  },
  {
   "cell_type": "code",
   "execution_count": null,
   "metadata": {
    "tags": []
   },
   "outputs": [],
   "source": [
    "#合成三維array\n",
    "\n",
    "import numpy as np\n",
    "a=np.zeros((5, 20))\n",
    "list1=[0.2,0.8,0.4,0.9,0.4,0.1,0.7]\n",
    "list2=[3,4,5,6]\n",
    "for i in range(len(list1)):\n",
    "    a[0][i]=list1[i]\n",
    "for i in range(len(list2)):\n",
    "    a[1][i]=list2[i]\n",
    "print(a)\n",
    "\n",
    "#取出非0的值\n",
    "print(a[0])\n",
    "x = a[0].nonzero() \n",
    "print(x)\n",
    "print(a[0][x])"
   ]
  },
  {
   "cell_type": "code",
   "execution_count": 30,
   "metadata": {
    "tags": []
   },
   "outputs": [
    {
     "output_type": "stream",
     "name": "stdout",
     "text": "[[[0.2 0.8 0.4 0.9 0.4 0.1 0.7 0.  0.  0.  0.  0.  0.  0.  0.  0.  0.\n   0.  0.  0. ]\n  [3.  4.  5.  6.  0.  0.  0.  0.  0.  0.  0.  0.  0.  0.  0.  0.  0.\n   0.  0.  0. ]\n  [0.  0.  0.  0.  0.  0.  0.  0.  0.  0.  0.  0.  0.  0.  0.  0.  0.\n   0.  0.  0. ]\n  [0.  0.  0.  0.  0.  0.  0.  0.  0.  0.  0.  0.  0.  0.  0.  0.  0.\n   0.  0.  0. ]\n  [0.  0.  0.  0.  0.  0.  0.  0.  0.  0.  0.  0.  0.  0.  0.  0.  0.\n   0.  0.  0. ]]\n\n [[0.  0.  0.  0.  0.  0.  0.  0.  0.  0.  0.  0.  0.  0.  0.  0.  0.\n   0.  0.  0. ]\n  [0.  0.  0.  0.  0.  0.  0.  0.  0.  0.  0.  0.  0.  0.  0.  0.  0.\n   0.  0.  0. ]\n  [0.  0.  0.  0.  0.  0.  0.  0.  0.  0.  0.  0.  0.  0.  0.  0.  0.\n   0.  0.  0. ]\n  [0.  0.  0.  0.  0.  0.  0.  0.  0.  0.  0.  0.  0.  0.  0.  0.  0.\n   0.  0.  0. ]\n  [0.  0.  0.  0.  0.  0.  0.  0.  0.  0.  0.  0.  0.  0.  0.  0.  0.\n   0.  0.  0. ]]\n\n [[0.  0.  0.  0.  0.  0.  0.  0.  0.  0.  0.  0.  0.  0.  0.  0.  0.\n   0.  0.  0. ]\n  [0.  0.  0.  0.  0.  0.  0.  0.  0.  0.  0.  0.  0.  0.  0.  0.  0.\n   0.  0.  0. ]\n  [0.  0.  0.  0.  0.  0.  0.  0.  0.  0.  0.  0.  0.  0.  0.  0.  0.\n   0.  0.  0. ]\n  [0.  0.  0.  0.  0.  0.  0.  0.  0.  0.  0.  0.  0.  0.  0.  0.  0.\n   0.  0.  0. ]\n  [0.  0.  0.  0.  0.  0.  0.  0.  0.  0.  0.  0.  0.  0.  0.  0.  0.\n   0.  0.  0. ]]\n\n [[0.  0.  0.  0.  0.  0.  0.  0.  0.  0.  0.  0.  0.  0.  0.  0.  0.\n   0.  0.  0. ]\n  [0.  0.  0.  0.  0.  0.  0.  0.  0.  0.  0.  0.  0.  0.  0.  0.  0.\n   0.  0.  0. ]\n  [0.  0.  0.  0.  0.  0.  0.  0.  0.  0.  0.  0.  0.  0.  0.  0.  0.\n   0.  0.  0. ]\n  [0.  0.  0.  0.  0.  0.  0.  0.  0.  0.  0.  0.  0.  0.  0.  0.  0.\n   0.  0.  0. ]\n  [0.  0.  0.  0.  0.  0.  0.  0.  0.  0.  0.  0.  0.  0.  0.  0.  0.\n   0.  0.  0. ]]\n\n [[0.  0.  0.  0.  0.  0.  0.  0.  0.  0.  0.  0.  0.  0.  0.  0.  0.\n   0.  0.  0. ]\n  [0.  0.  0.  0.  0.  0.  0.  0.  0.  0.  0.  0.  0.  0.  0.  0.  0.\n   0.  0.  0. ]\n  [0.  0.  0.  0.  0.  0.  0.  0.  0.  0.  0.  0.  0.  0.  0.  0.  0.\n   0.  0.  0. ]\n  [0.  0.  0.  0.  0.  0.  0.  0.  0.  0.  0.  0.  0.  0.  0.  0.  0.\n   0.  0.  0. ]\n  [0.  0.  0.  0.  0.  0.  0.  0.  0.  0.  0.  0.  0.  0.  0.  0.  0.\n   0.  0.  0. ]]\n\n [[0.  0.  0.  0.  0.  0.  0.  0.  0.  0.  0.  0.  0.  0.  0.  0.  0.\n   0.  0.  0. ]\n  [0.  0.  0.  0.  0.  0.  0.  0.  0.  0.  0.  0.  0.  0.  0.  0.  0.\n   0.  0.  0. ]\n  [0.  0.  0.  0.  0.  0.  0.  0.  0.  0.  0.  0.  0.  0.  0.  0.  0.\n   0.  0.  0. ]\n  [0.  0.  0.  0.  0.  0.  0.  0.  0.  0.  0.  0.  0.  0.  0.  0.  0.\n   0.  0.  0. ]\n  [0.  0.  0.  0.  0.  0.  0.  0.  0.  0.  0.  0.  0.  0.  0.  0.  0.\n   0.  0.  0. ]]\n\n [[0.  0.  0.  0.  0.  0.  0.  0.  0.  0.  0.  0.  0.  0.  0.  0.  0.\n   0.  0.  0. ]\n  [0.  0.  0.  0.  0.  0.  0.  0.  0.  0.  0.  0.  0.  0.  0.  0.  0.\n   0.  0.  0. ]\n  [0.  0.  0.  0.  0.  0.  0.  0.  0.  0.  0.  0.  0.  0.  0.  0.  0.\n   0.  0.  0. ]\n  [0.  0.  0.  0.  0.  0.  0.  0.  0.  0.  0.  0.  0.  0.  0.  0.  0.\n   0.  0.  0. ]\n  [0.  0.  0.  0.  0.  0.  0.  0.  0.  0.  0.  0.  0.  0.  0.  0.  0.\n   0.  0.  0. ]]\n\n [[0.  0.  0.  0.  0.  0.  0.  0.  0.  0.  0.  0.  0.  0.  0.  0.  0.\n   0.  0.  0. ]\n  [0.  0.  0.  0.  0.  0.  0.  0.  0.  0.  0.  0.  0.  0.  0.  0.  0.\n   0.  0.  0. ]\n  [0.  0.  0.  0.  0.  0.  0.  0.  0.  0.  0.  0.  0.  0.  0.  0.  0.\n   0.  0.  0. ]\n  [0.  0.  0.  0.  0.  0.  0.  0.  0.  0.  0.  0.  0.  0.  0.  0.  0.\n   0.  0.  0. ]\n  [0.  0.  0.  0.  0.  0.  0.  0.  0.  0.  0.  0.  0.  0.  0.  0.  0.\n   0.  0.  0. ]]\n\n [[0.  0.  0.  0.  0.  0.  0.  0.  0.  0.  0.  0.  0.  0.  0.  0.  0.\n   0.  0.  0. ]\n  [0.  0.  0.  0.  0.  0.  0.  0.  0.  0.  0.  0.  0.  0.  0.  0.  0.\n   0.  0.  0. ]\n  [0.  0.  0.  0.  0.  0.  0.  0.  0.  0.  0.  0.  0.  0.  0.  0.  0.\n   0.  0.  0. ]\n  [0.  0.  0.  0.  0.  0.  0.  0.  0.  0.  0.  0.  0.  0.  0.  0.  0.\n   0.  0.  0. ]\n  [0.  0.  0.  0.  0.  0.  0.  0.  0.  0.  0.  0.  0.  0.  0.  0.  0.\n   0.  0.  0. ]]\n\n [[0.  0.  0.  0.  0.  0.  0.  0.  0.  0.  0.  0.  0.  0.  0.  0.  0.\n   0.  0.  0. ]\n  [0.  0.  0.  0.  0.  0.  0.  0.  0.  0.  0.  0.  0.  0.  0.  0.  0.\n   0.  0.  0. ]\n  [0.  0.  0.  0.  0.  0.  0.  0.  0.  0.  0.  0.  0.  0.  0.  0.  0.\n   0.  0.  0. ]\n  [0.  0.  0.  0.  0.  0.  0.  0.  0.  0.  0.  0.  0.  0.  0.  0.  0.\n   0.  0.  0. ]\n  [0.  0.  0.  0.  0.  0.  0.  0.  0.  0.  0.  0.  0.  0.  0.  0.  0.\n   0.  0.  0. ]]]\n"
    }
   ],
   "source": [
    "import numpy as np\n",
    "a=np.zeros((10,5,20))\n",
    "list1=[0.2,0.8,0.4,0.9,0.4,0.1,0.7]\n",
    "list2=[3,4,5,6]\n",
    "for i in range(len(list1)):\n",
    "    a[0][0][i]=list1[i]\n",
    "for i in range(len(list2)):\n",
    "    a[0][1][i]=list2[i]\n",
    "print(a)"
   ]
  },
  {
   "cell_type": "code",
   "execution_count": 31,
   "metadata": {
    "tags": []
   },
   "outputs": [
    {
     "output_type": "stream",
     "name": "stdout",
     "text": "[1 2 3 4 5 6 2 2 3 4 5 6 3 2 3 4 5 6 4 2 3 4 5 6]\n原矩阵维数： (3, 2, 3)\n合并矩阵：\n [[[1 2 3]\n  [4 5 6]]\n\n [[2 2 3]\n  [4 5 6]]\n\n [[3 2 3]\n  [4 5 6]]\n\n [[4 2 3]\n  [4 5 6]]]\n维数： (4, 2, 3)\n"
    }
   ],
   "source": [
    "import numpy as np\n",
    "\n",
    "aa = np.array([[[1,2,3],[4,5,6]],[[2,2,3],[4,5,6]],[[3,2,3],[4,5,6]]])\n",
    "a = np.array([[4,2,3],[4,5,6]])\n",
    "data = np.append(aa,a)#先拼接成一个行向量\n",
    "print(data)\n",
    "\n",
    "dim = aa.shape#获取原矩阵的维数\n",
    "print('原矩阵维数：',dim)\n",
    "data1 = data.reshape(dim[0]+1,dim[1],dim[2])#再通过原矩阵的维数重新组合\n",
    "\n",
    "print('合并矩阵：\\n',data1)\n",
    "print('维数：',data1.shape)"
   ]
  },
  {
   "cell_type": "code",
   "execution_count": 39,
   "metadata": {},
   "outputs": [
    {
     "output_type": "execute_result",
     "data": {
      "text/plain": "3"
     },
     "metadata": {},
     "execution_count": 39
    }
   ],
   "source": [
    "import math\n",
    "a=math.ceil(2.5)\n",
    "a"
   ]
  },
  {
   "cell_type": "code",
   "execution_count": 91,
   "metadata": {
    "tags": []
   },
   "outputs": [
    {
     "output_type": "stream",
     "name": "stdout",
     "text": "[1, 4]\n0 3\n"
    }
   ],
   "source": [
    "#任兩條進行交配\n",
    "import random\n",
    "PopulationNum=5\n",
    "size=range(1,6)  #母體大小 \n",
    "\n",
    "AnyTwo=random.sample(size, 2)\n",
    "AnyTwo.sort()\n",
    "print(AnyTwo)\n",
    "\n",
    "FirstC=AnyTwo[0]\n",
    "SecondC=AnyTwo[1]\n",
    "print(FirstC-1,SecondC-1)"
   ]
  },
  {
   "cell_type": "code",
   "execution_count": 138,
   "metadata": {
    "tags": []
   },
   "outputs": [
    {
     "output_type": "stream",
     "name": "stdout",
     "text": "[[[ 8  2]\n  [ 3  7]\n  [ 5  0]]\n\n [[ 2  5]\n  [ 8  3]\n  [10  0]]]\n--------------\n[[[ 2  5]\n  [ 8  3]\n  [10  0]]\n\n [[ 8  2]\n  [ 3  7]\n  [ 5  0]]]\n"
    }
   ],
   "source": [
    "import numpy as np\n",
    "A=np.array([[[8,2],[3,7],[5,0]],[[2,5],[8,3],[10,0]]])\n",
    "print(A) \n",
    "print(\"--------------\")\n",
    "Answer=np.array([[[2,5],[8,3],[10,0]],[[8,2],[3,7],[5,0]]])\n",
    "print(Answer)\n"
   ]
  },
  {
   "cell_type": "code",
   "execution_count": 140,
   "metadata": {
    "tags": []
   },
   "outputs": [
    {
     "output_type": "stream",
     "name": "stdout",
     "text": "0\n1\n2\n3\n4\n"
    }
   ],
   "source": [
    "for i in range(0,2):\n",
    "    print(i)\n",
    "for i in range(2,5):\n",
    "    print(i)"
   ]
  },
  {
   "cell_type": "code",
   "execution_count": 147,
   "metadata": {
    "tags": []
   },
   "outputs": [
    {
     "output_type": "stream",
     "name": "stdout",
     "text": "[20]\n[49]\n[33]\n[41]\n[27]\n[7]\n[34]\n[33]\n[28]\n[42]\n[40]\n[43]\n[24]\n[48]\n[24]\n[46]\n[1]\n[38]\n[19]\n[34]\n[48]\n[13]\n[10]\n[11]\n[0]\n[1]\n[32]\n[40]\n[31]\n[0]\n[47]\n[3]\n[38]\n[24]\n[9]\n[27]\n[39]\n[2]\n[30]\n[26]\n[48]\n[35]\n[38]\n[0]\n[8]\n[41]\n[4]\n[30]\n[1]\n[21]\n"
    }
   ],
   "source": [
    "    PopulationNum=50\n",
    "    size=range(0,PopulationNum)  #母體大小\n",
    "    for i in range(50):\n",
    "        AnyTwo=random.sample(size, 1)\n",
    "        print(AnyTwo)\n",
    "    "
   ]
  },
  {
   "cell_type": "code",
   "execution_count": 154,
   "metadata": {
    "tags": []
   },
   "outputs": [
    {
     "output_type": "stream",
     "name": "stdout",
     "text": "[80, 90, 0]\n[90, 80, 0]\n90\n"
    }
   ],
   "source": [
    "EndTList=[]\n",
    "EndTList.append(M1EndT[-1])\n",
    "EndTList.append(M2EndT[-1])\n",
    "EndTList.append(M3EndT[-1])\n",
    "\n",
    "OrderEndT=sorted(EndTList,reverse=True) #由大到小\n",
    "print(OrderEndT[0])\n"
   ]
  },
  {
   "cell_type": "code",
   "execution_count": 157,
   "metadata": {},
   "outputs": [
    {
     "output_type": "execute_result",
     "data": {
      "text/plain": "[0, 1, 2]"
     },
     "metadata": {},
     "execution_count": 157
    }
   ],
   "source": [
    "a=3\n",
    "sequence=[i for i in range(a)]\n",
    "sequence"
   ]
  },
  {
   "cell_type": "code",
   "execution_count": 67,
   "metadata": {
    "tags": []
   },
   "outputs": [
    {
     "output_type": "stream",
     "name": "stdout",
     "text": "[0, 0.2222222222222222, 0.41666666666666663, 0.5833333333333333, 0.7222222222222221, 0.8333333333333333, 0.9166666666666666, 0.9722222222222222]\n18\n[0, 3, 4, 6, 1, 5, 2]\n"
    }
   ],
   "source": [
    "#菁英制\n",
    "PopulationNum=10\n",
    "#for i in range(int(PopulationNum*0.2)): #10\n",
    "    #print(i)\n",
    "    #FinalChromosome[i]=TotalChromosome[OrderMs[i][0]]\n",
    "\n",
    "#等級輪盤制\n",
    "#for i in range(int(PopulationNum*0.2),PopulationNum*2): #10-100\n",
    "    #print(i)\n",
    "\n",
    "makespan=[8,9,10,11,12,13,14,15]\n",
    "\n",
    "def sum(num):\n",
    "    sum = 0\n",
    "    x=1\n",
    "    while x < num+1:\n",
    "        sum = sum + x\n",
    "        x+=1\n",
    "    return sum\n",
    "Sum=sum(len(makespan))\n",
    "t=0\n",
    "proba_list=[0]\n",
    "for i in range(len(makespan)-1):\n",
    "    proba=(len(makespan)-i)/Sum\n",
    "    t+=proba\n",
    "    proba_list.append(t)\n",
    "print(proba_list)\n",
    "\n",
    "def getk2():\n",
    "    import random\n",
    "    selectone=random.random()\n",
    "    #print(selectone)\n",
    "\n",
    "    k2=-1\n",
    "    for i in range(len(proba_list)):\n",
    "        if(selectone>proba_list[i]):\n",
    "            k2+=1\n",
    "    return k2\n",
    "\n",
    "a=[]\n",
    "count=0\n",
    "while(len(a)<7):\n",
    "    count+=1\n",
    "    temp=getk2()\n",
    "    if(temp not in a):\n",
    "        a.append(temp)\n",
    "print(count)\n",
    "print(a)\n",
    "\n",
    "    \n"
   ]
  },
  {
   "cell_type": "code",
   "execution_count": 53,
   "metadata": {},
   "outputs": [
    {
     "output_type": "error",
     "ename": "SyntaxError",
     "evalue": "unexpected EOF while parsing (<ipython-input-53-0266af91a7a8>, line 3)",
     "traceback": [
      "\u001b[1;36m  File \u001b[1;32m\"<ipython-input-53-0266af91a7a8>\"\u001b[1;36m, line \u001b[1;32m3\u001b[0m\n\u001b[1;33m    set(a).intersection(set(b)\u001b[0m\n\u001b[1;37m                              ^\u001b[0m\n\u001b[1;31mSyntaxError\u001b[0m\u001b[1;31m:\u001b[0m unexpected EOF while parsing\n"
     ]
    }
   ],
   "source": [
    "a={1,2,3}\n",
    "b={4,5,6}\n",
    "set(a).intersection(set(b)"
   ]
  },
  {
   "cell_type": "code",
   "execution_count": 54,
   "metadata": {},
   "outputs": [
    {
     "output_type": "execute_result",
     "data": {
      "text/plain": "False"
     },
     "metadata": {},
     "execution_count": 54
    }
   ],
   "source": [
    "a=1\n",
    "b=[]\n",
    "a in b\n",
    "\n",
    "for i in range(10):\n",
    "    if(a in b):\n",
    "      \n",
    "        b.append(i)\n",
    "\n"
   ]
  },
  {
   "cell_type": "code",
   "execution_count": null,
   "metadata": {},
   "outputs": [],
   "source": []
  }
 ]
}